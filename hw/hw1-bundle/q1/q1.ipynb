{
  "nbformat": 4,
  "nbformat_minor": 0,
  "metadata": {
    "colab": {
      "name": "cs246_hw1_q1.ipynb",
      "provenance": []
    },
    "kernelspec": {
      "name": "python3",
      "display_name": "Python 3"
    }
  },
  "cells": [
    {
      "cell_type": "code",
      "metadata": {
        "id": "ufIIs5R04CiU",
        "colab_type": "code",
        "colab": {
          "base_uri": "https://localhost:8080/",
          "height": 343
        },
        "outputId": "9bf51b4e-53c4-473c-ac70-f4d607d1d16a"
      },
      "source": [
        "!pip install pyspark\n",
        "!pip install -U -q PyDrive\n",
        "!apt install openjdk-8-jdk-headless -qq\n",
        "import os\n",
        "os.environ[\"JAVA_HOME\"] = \"/usr/lib/jvm/java-8-openjdk-amd64\""
      ],
      "execution_count": 1,
      "outputs": [
        {
          "output_type": "stream",
          "text": [
            "Collecting pyspark\n",
            "\u001b[?25l  Downloading https://files.pythonhosted.org/packages/87/21/f05c186f4ddb01d15d0ddc36ef4b7e3cedbeb6412274a41f26b55a650ee5/pyspark-2.4.4.tar.gz (215.7MB)\n",
            "\u001b[K     |████████████████████████████████| 215.7MB 48kB/s \n",
            "\u001b[?25hCollecting py4j==0.10.7\n",
            "\u001b[?25l  Downloading https://files.pythonhosted.org/packages/e3/53/c737818eb9a7dc32a7cd4f1396e787bd94200c3997c72c1dbe028587bd76/py4j-0.10.7-py2.py3-none-any.whl (197kB)\n",
            "\u001b[K     |████████████████████████████████| 204kB 42.2MB/s \n",
            "\u001b[?25hBuilding wheels for collected packages: pyspark\n",
            "  Building wheel for pyspark (setup.py) ... \u001b[?25l\u001b[?25hdone\n",
            "  Created wheel for pyspark: filename=pyspark-2.4.4-py2.py3-none-any.whl size=216130387 sha256=a8895c080aec6e76cb15ce3e2c7ed1571c97550c6fd358108a175e10b3010e0d\n",
            "  Stored in directory: /root/.cache/pip/wheels/ab/09/4d/0d184230058e654eb1b04467dbc1292f00eaa186544604b471\n",
            "Successfully built pyspark\n",
            "Installing collected packages: py4j, pyspark\n",
            "Successfully installed py4j-0.10.7 pyspark-2.4.4\n",
            "openjdk-8-jdk-headless is already the newest version (8u232-b09-0ubuntu1~18.04.1).\n",
            "The following package was automatically installed and is no longer required:\n",
            "  libnvidia-common-430\n",
            "Use 'apt autoremove' to remove it.\n",
            "0 upgraded, 0 newly installed, 0 to remove and 7 not upgraded.\n"
          ],
          "name": "stdout"
        }
      ]
    },
    {
      "cell_type": "code",
      "metadata": {
        "id": "tawocQrk4I-R",
        "colab_type": "code",
        "colab": {}
      },
      "source": [
        "from pydrive.auth import GoogleAuth\n",
        "from pydrive.drive import GoogleDrive\n",
        "from google.colab import auth\n",
        "from oauth2client.client import GoogleCredentials\n",
        "\n",
        "# Authenticate and create the PyDrive client\n",
        "auth.authenticate_user()\n",
        "gauth = GoogleAuth()\n",
        "gauth.credentials = GoogleCredentials.get_application_default()\n",
        "drive = GoogleDrive(gauth)"
      ],
      "execution_count": 0,
      "outputs": []
    },
    {
      "cell_type": "code",
      "metadata": {
        "id": "uG2ptjJd4WQk",
        "colab_type": "code",
        "colab": {}
      },
      "source": [
        "from pyspark.sql import *\n",
        "from pyspark.sql.functions import *\n",
        "from pyspark import SparkContext\n",
        "import pandas as pd\n",
        "\n",
        "# create the Spark Session\n",
        "spark = SparkSession.builder.getOrCreate()\n",
        "\n",
        "# create the Spark Context\n",
        "sc = spark.sparkContext"
      ],
      "execution_count": 0,
      "outputs": []
    },
    {
      "cell_type": "code",
      "metadata": {
        "id": "vnLxqC4D4eZj",
        "colab_type": "code",
        "colab": {}
      },
      "source": [
        "data = sc.textFile('soc-LiveJournal1Adj.txt')"
      ],
      "execution_count": 0,
      "outputs": []
    },
    {
      "cell_type": "code",
      "metadata": {
        "id": "fg99y7MB4-JX",
        "colab_type": "code",
        "colab": {}
      },
      "source": [
        "def make_tuple(line):\n",
        "  tokens = line.split('\\t')\n",
        "\n",
        "  if len(tokens) == 1 or tokens[0] == '':\n",
        "    return []\n",
        "\n",
        "  user = int(tokens[0])\n",
        "  friends = tokens[1].split(',')\n",
        "\n",
        "  user_friend_pairs = []\n",
        "  mutual_friend_pairs = []\n",
        "\n",
        "  for friend in friends:\n",
        "    if friend != '':\n",
        "      user_friend_pairs.append(((user, int(friend)), 0))\n",
        "\n",
        "  for i in range(0, len(friends) - 1):\n",
        "    for j in range(i + 1, len(friends)):\n",
        "      mutual_friend_pairs.append(((int(friends[i]), int(friends[j])), 1))\n",
        "      mutual_friend_pairs.append(((int(friends[j]), int(friends[i])), 1))\n",
        "\n",
        "  return user_friend_pairs + mutual_friend_pairs"
      ],
      "execution_count": 0,
      "outputs": []
    },
    {
      "cell_type": "code",
      "metadata": {
        "id": "UcGmbo3R5A12",
        "colab_type": "code",
        "colab": {}
      },
      "source": [
        "relationship_pairs = data.flatMap(lambda line: make_tuple(line))"
      ],
      "execution_count": 0,
      "outputs": []
    },
    {
      "cell_type": "code",
      "metadata": {
        "id": "8KS8vPYj93hH",
        "colab_type": "code",
        "colab": {}
      },
      "source": [
        "already_friends = relationship_pairs.filter(lambda relationship: relationship[1] == 0)"
      ],
      "execution_count": 0,
      "outputs": []
    },
    {
      "cell_type": "code",
      "metadata": {
        "id": "cjU4yrU994tQ",
        "colab_type": "code",
        "colab": {}
      },
      "source": [
        "mutual_friends_pairs = relationship_pairs.subtractByKey(already_friends).\\\n",
        "                       reduceByKey(lambda a, b: a + b).\\\n",
        "                       map(lambda x: (x[0][0], (x[0][1], x[1]))).\\\n",
        "                       groupByKey().\\\n",
        "                       mapValues(list)"
      ],
      "execution_count": 0,
      "outputs": []
    },
    {
      "cell_type": "code",
      "metadata": {
        "id": "1SzZY7pfMxB3",
        "colab_type": "code",
        "colab": {}
      },
      "source": [
        "def recommend_new_friends(user_and_strangers, n = 10):\n",
        "  user, list_of_strangers = user_and_strangers\n",
        "\n",
        "  ordered_strangers_list = sorted(list_of_strangers, key = lambda stranger_num_mutual_friends: (-stranger_num_mutual_friends[1], stranger_num_mutual_friends[0]))[:n]\n",
        "\n",
        "  #recommendation = map(lambda stranger_num_mutual_friends: stranger_num_mutual_friends[0], ordered_strangers_list)\n",
        "  recommendation = []\n",
        "  for k, v in ordered_strangers_list:\n",
        "    recommendation.append(k)\n",
        "\n",
        "  return user, recommendation"
      ],
      "execution_count": 0,
      "outputs": []
    },
    {
      "cell_type": "code",
      "metadata": {
        "id": "s7RH_wLtP5oL",
        "colab_type": "code",
        "colab": {}
      },
      "source": [
        "result = mutual_friends_pairs.map(lambda user_and_strangers: recommend_new_friends(user_and_strangers)).\\\n",
        "         map(lambda user_recommendations: \"{}\\t{}\".format(user_recommendations[0], \",\".join(map(lambda x: str(x), user_recommendations[1])))).\\\n",
        "         collect()"
      ],
      "execution_count": 0,
      "outputs": []
    },
    {
      "cell_type": "code",
      "metadata": {
        "id": "5-pRiig9gYS-",
        "colab_type": "code",
        "colab": {
          "base_uri": "https://localhost:8080/",
          "height": 187
        },
        "outputId": "24b8c945-76ea-4592-8624-a7ea39aef8bc"
      },
      "source": [
        "user_IDs = ['924', '8941', '8942', '9019', '9020', '9021', '9022', '9990', '9992', '9993']\n",
        "\n",
        "for user_id in user_IDs:\n",
        "  for line in result:\n",
        "    user, recommendations = line.split('\\t')\n",
        "    if user == user_id:\n",
        "      print(line)"
      ],
      "execution_count": 135,
      "outputs": [
        {
          "output_type": "stream",
          "text": [
            "924\t439,2409,6995,11860,15416,43748,45881\n",
            "8941\t8943,8944,8940\n",
            "8942\t8939,8940,8943,8944\n",
            "9019\t9022,317,9023\n",
            "9020\t9021,9016,9017,9022,317,9023\n",
            "9021\t9020,9016,9017,9022,317,9023\n",
            "9022\t9019,9020,9021,317,9016,9017,9023\n",
            "9990\t13134,13478,13877,34299,34485,34642,37941\n",
            "9992\t9987,9989,35667,9991\n",
            "9993\t9991,13134,13478,13877,34299,34485,34642,37941\n"
          ],
          "name": "stdout"
        }
      ]
    },
    {
      "cell_type": "code",
      "metadata": {
        "id": "ng8Ckhhjg95-",
        "colab_type": "code",
        "colab": {}
      },
      "source": [
        ""
      ],
      "execution_count": 0,
      "outputs": []
    }
  ]
}