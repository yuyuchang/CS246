{
  "nbformat": 4,
  "nbformat_minor": 0,
  "metadata": {
    "colab": {
      "name": "q1.ipynb",
      "provenance": []
    },
    "kernelspec": {
      "name": "python3",
      "display_name": "Python 3"
    }
  },
  "cells": [
    {
      "cell_type": "code",
      "metadata": {
        "id": "rT2FS9yC7947",
        "colab_type": "code",
        "colab": {}
      },
      "source": [
        "import numpy as np\n",
        "import matplotlib.pyplot as plt\n",
        "import time"
      ],
      "execution_count": 0,
      "outputs": []
    },
    {
      "cell_type": "code",
      "metadata": {
        "id": "rw9fWr0z9BuB",
        "colab_type": "code",
        "colab": {}
      },
      "source": [
        "features = np.loadtxt('./features.txt', delimiter = ',')\n",
        "target = np.loadtxt('./target.txt', delimiter = ',')"
      ],
      "execution_count": 0,
      "outputs": []
    },
    {
      "cell_type": "code",
      "metadata": {
        "id": "HlHTXJLe_W6o",
        "colab_type": "code",
        "colab": {}
      },
      "source": [
        "def cost_func(w, b, features, target, C = 100):\n",
        "  loss = 0.5 * np.sum(w ** 2) + C * np.sum(np.maximum(0, 1 - target * (w @ features.T + b)))\n",
        "  return loss"
      ],
      "execution_count": 0,
      "outputs": []
    },
    {
      "cell_type": "code",
      "metadata": {
        "id": "2LRoRR6z9Gnm",
        "colab_type": "code",
        "colab": {
          "base_uri": "https://localhost:8080/",
          "height": 34
        },
        "outputId": "7c1b35d7-559c-4cc0-ec1b-d51cc73066a5"
      },
      "source": [
        "#Batch Gradient Descent\n",
        "w = np.zeros(122)\n",
        "b = 0\n",
        "C = 100\n",
        "lr = 0.0000003\n",
        "epsilon = 0.25\n",
        "delta_percent_cost = 1e8\n",
        "BGD_cost = []\n",
        "BGD_iterations = 0\n",
        "start_time = time.time()\n",
        "\n",
        "while delta_percent_cost >= epsilon:\n",
        "  BGD_cost.append(cost_func(w, b, features, target, C))\n",
        "  w_tmp = w.copy()\n",
        "  b_tmp = b\n",
        "  for j in range(len(w)):\n",
        "    delta_w_j = w[j]\n",
        "    for i in range(features.shape[0]):\n",
        "      if target[i] * (features[i] @ w + b) < 1:\n",
        "        delta_w_j += C * (-target[i] * features[i, j])\n",
        "    w_tmp[j] -= lr * delta_w_j\n",
        "\n",
        "  delta_b = 0\n",
        "  for i in range(features.shape[0]):\n",
        "    if target[i] * (features[i] @ w + b) < 1:\n",
        "      delta_b += C * (-target[i])\n",
        "  b_tmp -= lr * delta_b\n",
        "\n",
        "  w = w_tmp.copy()\n",
        "  b = b_tmp\n",
        "\n",
        "  BGD_iterations += 1\n",
        "  delta_percent_cost = np.abs(BGD_cost[-1] - cost_func(w, b, features, target, C)) * 100 / BGD_cost[-1]\n",
        "  if delta_percent_cost < epsilon:\n",
        "    end_time = time.time()\n",
        "    BGD_cost.append(cost_func(w, b, features, target, C))\n",
        "\n",
        "print(\"Batch Gradient Descent takes {} seconds\".format(end_time - start_time))"
      ],
      "execution_count": 5,
      "outputs": [
        {
          "output_type": "stream",
          "text": [
            "Batch Gradient Descent takes 156.50093269348145 seconds\n"
          ],
          "name": "stdout"
        }
      ]
    },
    {
      "cell_type": "code",
      "metadata": {
        "id": "izIpE2iXJCH1",
        "colab_type": "code",
        "colab": {
          "base_uri": "https://localhost:8080/",
          "height": 34
        },
        "outputId": "4f2c5eb2-e696-42da-8e84-a6360e4408a5"
      },
      "source": [
        "#Stochastic Gradient Descent\n",
        "w = np.zeros(122)\n",
        "b = 0\n",
        "C = 100\n",
        "lr = 0.0001\n",
        "epsilon = 0.001\n",
        "delta_cost = 0\n",
        "SGD_cost = []\n",
        "SGD_iterations = 0\n",
        "permutation = np.random.permutation(features.shape[0])#For randomly shuffle\n",
        "SGD_features = features[permutation]\n",
        "SGD_target = target[permutation]\n",
        "i = 0\n",
        "start_time = time.time()\n",
        "\n",
        "\n",
        "while True:\n",
        "  SGD_cost.append(cost_func(w = w, b = b, features = SGD_features, target = SGD_target, C = C))\n",
        "  w_tmp = w.copy()\n",
        "  b_tmp = b\n",
        "  for j in range(len(w)):\n",
        "    delta_w_j = w[j]\n",
        "    if SGD_target[i] * (SGD_features[i] @ w + b) < 1:\n",
        "      delta_w_j += C * (-SGD_target[i] * SGD_features[i, j])\n",
        "    w_tmp[j] -= lr * delta_w_j\n",
        "  delta_b = 0\n",
        "  if SGD_target[i] * (SGD_features[i] @ w + b) < 1:\n",
        "    delta_b += C * -SGD_target[i]\n",
        "  b_tmp -= lr * delta_b\n",
        "  i = (i + 1) % SGD_features.shape[0]\n",
        "  SGD_iterations += 1\n",
        "  w = w_tmp.copy()\n",
        "  b = b_tmp\n",
        "  delta_cost = 0.5 * delta_cost + 0.5 * (np.abs(SGD_cost[-1] - cost_func(w = w, b = b, features = SGD_features, target = SGD_target, C = C)) * 100 / SGD_cost[-1])\n",
        "  if delta_cost < epsilon:\n",
        "    end_time = time.time()\n",
        "    SGD_cost.append(cost_func(w, b, SGD_features, SGD_target, C))\n",
        "    break\n",
        "\n",
        "print(\"Stochastic Gradient Descent takes {} seconds\".format(end_time - start_time))"
      ],
      "execution_count": 6,
      "outputs": [
        {
          "output_type": "stream",
          "text": [
            "Stochastic Gradient Descent takes 4.5522167682647705 seconds\n"
          ],
          "name": "stdout"
        }
      ]
    },
    {
      "cell_type": "code",
      "metadata": {
        "id": "hg3vL2MqlzKx",
        "colab_type": "code",
        "colab": {
          "base_uri": "https://localhost:8080/",
          "height": 34
        },
        "outputId": "51436450-7760-4efd-d60d-705bfedd41ac"
      },
      "source": [
        "#Mini Batch Gradient Descent\n",
        "w = np.zeros(122)\n",
        "b = 0\n",
        "C = 100\n",
        "lr = 0.00001\n",
        "epsilon = 0.01\n",
        "delta_cost = 0\n",
        "batch_size = 20\n",
        "MGD_cost = []\n",
        "MGD_iterations = 0\n",
        "permutation = np.random.permutation(features.shape[0])#For randomly shuffle\n",
        "MGD_features = features[permutation]\n",
        "MGD_target = target[permutation]\n",
        "l = 0\n",
        "start_time = time.time()\n",
        "\n",
        "while True:\n",
        "  MGD_cost.append(cost_func(w = w, b = b, features = MGD_features, target = MGD_target, C = C))\n",
        "  w_tmp = w.copy()\n",
        "  b_tmp = b\n",
        "  for j in range(len(w)):\n",
        "    delta_w_j = w[j]\n",
        "    for i in range(l * batch_size, int(min(MGD_features.shape[0], (l + 1) * batch_size))):\n",
        "      if MGD_target[i] * (MGD_features[i] @ w + b) < 1:\n",
        "        delta_w_j += C * (-MGD_target[i] * MGD_features[i, j])\n",
        "    w_tmp[j] -= lr * delta_w_j\n",
        "\n",
        "  delta_b = 0\n",
        "  for i in range(l * batch_size, int(min(MGD_features.shape[0], (l + 1) * batch_size))):\n",
        "    if MGD_target[i] * (MGD_features[i] @ w + b) < 1:\n",
        "      delta_b += C * -MGD_target[i]\n",
        "  b_tmp -= lr * delta_b\n",
        "  l = (l + 1) % int(((MGD_features.shape[0] + batch_size - 1) // batch_size))\n",
        "  MGD_iterations += 1\n",
        "  w = w_tmp.copy()\n",
        "  b = b_tmp\n",
        "  delta_cost = 0.5 * delta_cost + 0.5 * (np.abs(MGD_cost[-1] - cost_func(w = w, b = b, features = MGD_features, target = MGD_target, C = C)) * 100 / MGD_cost[-1])\n",
        "  if delta_cost < epsilon:\n",
        "    end_time = time.time()\n",
        "    MGD_cost.append(cost_func(w, b, MGD_features, MGD_target, C))\n",
        "    break\n",
        "\n",
        "print(\"Mini Batch Gradient Descent takes {} seconds\".format(end_time - start_time))"
      ],
      "execution_count": 7,
      "outputs": [
        {
          "output_type": "stream",
          "text": [
            "Mini Batch Gradient Descent takes 14.616405725479126 seconds\n"
          ],
          "name": "stdout"
        }
      ]
    },
    {
      "cell_type": "code",
      "metadata": {
        "id": "TOB8iFilB2p_",
        "colab_type": "code",
        "colab": {
          "base_uri": "https://localhost:8080/",
          "height": 295
        },
        "outputId": "95b706ef-1340-45a9-a2f0-ec68395cca8b"
      },
      "source": [
        "plt.figure()\n",
        "plt.plot(np.arange(BGD_iterations + 1), BGD_cost, label = 'BGD')\n",
        "plt.plot(np.arange(SGD_iterations + 1), SGD_cost, label = 'SGD')\n",
        "plt.plot(np.arange(MGD_iterations + 1), MGD_cost, label = 'MGD')\n",
        "plt.xlabel('Iterations')\n",
        "plt.ylabel('Cost')\n",
        "plt.title('Cost vs Iterations')\n",
        "plt.legend()\n",
        "plt.savefig('q1.png')\n",
        "plt.show()"
      ],
      "execution_count": 8,
      "outputs": [
        {
          "output_type": "display_data",
          "data": {
            "image/png": "[encoded data removed]",
            "text/plain": [
              "<Figure size 432x288 with 1 Axes>"
            ]
          },
          "metadata": {
            "tags": []
          }
        }
      ]
    },
    {
      "cell_type": "code",
      "metadata": {
        "id": "HDTJPq0QG8v0",
        "colab_type": "code",
        "colab": {}
      },
      "source": [
        ""
      ],
      "execution_count": 0,
      "outputs": []
    }
  ]
}