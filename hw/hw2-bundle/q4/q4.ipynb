{
  "nbformat": 4,
  "nbformat_minor": 0,
  "metadata": {
    "colab": {
      "name": "q4.ipynb",
      "provenance": []
    },
    "kernelspec": {
      "name": "python3",
      "display_name": "Python 3"
    }
  },
  "cells": [
    {
      "cell_type": "code",
      "metadata": {
        "id": "t21f4CW2h1e0",
        "colab_type": "code",
        "colab": {}
      },
      "source": [
        "import numpy as np\n",
        "from numpy.linalg import inv"
      ],
      "execution_count": 0,
      "outputs": []
    },
    {
      "cell_type": "code",
      "metadata": {
        "id": "S8qvc0JkiCYp",
        "colab_type": "code",
        "colab": {}
      },
      "source": [
        "R = np.loadtxt('user-shows.txt')\n",
        "P = np.zeros((R.shape[0], R.shape[0]))\n",
        "Q = np.zeros((R.shape[1], R.shape[1]))\n",
        "\n",
        "shows_file = 'shows.txt'\n",
        "shows_list = []\n",
        "\n",
        "f = open(shows_file, 'r')\n",
        "for line in f:\n",
        "  shows_name = line.strip().replace('\"', '')\n",
        "  shows_list.append(shows_name)"
      ],
      "execution_count": 0,
      "outputs": []
    },
    {
      "cell_type": "code",
      "metadata": {
        "id": "n3EsoYbsiG7r",
        "colab_type": "code",
        "colab": {}
      },
      "source": [
        "R_row_sum = R.sum(axis = 0)\n",
        "R_col_sum = R.sum(axis = 1)\n",
        "\n",
        "for i in range(len(R_col_sum)):\n",
        "  P[i, i] = R_col_sum[i]\n",
        "\n",
        "for i in range(len(R_row_sum)):\n",
        "  Q[i, i] = R_row_sum[i]"
      ],
      "execution_count": 0,
      "outputs": []
    },
    {
      "cell_type": "code",
      "metadata": {
        "id": "ov1qf7uIiIpW",
        "colab_type": "code",
        "colab": {}
      },
      "source": [
        "Gamma_uu = (inv(P) ** 0.5) @ R @ R.T @(inv(P) ** 0.5) @ R\n",
        "Gamma_ii = R @(inv(Q) ** 0.5) @ R.T @ R @ (inv(Q) ** 0.5)"
      ],
      "execution_count": 0,
      "outputs": []
    },
    {
      "cell_type": "code",
      "metadata": {
        "id": "yCp_lM2ZkBW7",
        "colab_type": "code",
        "colab": {
          "base_uri": "https://localhost:8080/",
          "height": 153
        },
        "outputId": "89cd204e-f2cb-49dc-9626-160ebfb5d979"
      },
      "source": [
        "top5_uu_indexes = (-Gamma_uu[499, :100]).argsort()[:5]\n",
        "print(\"The names of five TV shows that have the highest similarity scores for Alex \\nfor the user-user collaborative filtering are:\\n\")\n",
        "for index in top5_uu_indexes:\n",
        "  print(\"{}, with similarity score {}\".format(shows_list[index], Gamma_uu[499, index]))"
      ],
      "execution_count": 48,
      "outputs": [
        {
          "output_type": "stream",
          "text": [
            "The names of five TV shows that have the highest similarity scores for Alex \n",
            "for the user-user collaborative filtering are:\n",
            "\n",
            "FOX 28 News at 10pm, with similarity score 908.4800534761279\n",
            "Family Guy, with similarity score 861.17599928733\n",
            "2009 NCAA Basketball Tournament, with similarity score 827.6012954743582\n",
            "NBC 4 at Eleven, with similarity score 784.7819589039738\n",
            "Two and a Half Men, with similarity score 757.6011181024228\n"
          ],
          "name": "stdout"
        }
      ]
    },
    {
      "cell_type": "code",
      "metadata": {
        "id": "I_dLNc2tm5kB",
        "colab_type": "code",
        "colab": {
          "base_uri": "https://localhost:8080/",
          "height": 153
        },
        "outputId": "e93b1e25-ed8f-4797-9a49-ba900fa12c4f"
      },
      "source": [
        "top5_ii_indexes = (-Gamma_ii[499, :100]).argsort()[:5]\n",
        "print(\"The names of five TV shows that have the highest similarity scores for Alex \\nfor the item-item collaborative filtering are:\\n\")\n",
        "for index in top5_ii_indexes:\n",
        "  print(\"{}, with similarity score {}\".format(shows_list[index], Gamma_ii[499, index]))"
      ],
      "execution_count": 49,
      "outputs": [
        {
          "output_type": "stream",
          "text": [
            "The names of five TV shows that have the highest similarity scores for Alex \n",
            "for the item-item collaborative filtering are:\n",
            "\n",
            "FOX 28 News at 10pm, with similarity score 31.364701678342396\n",
            "Family Guy, with similarity score 30.001141798877764\n",
            "NBC 4 at Eleven, with similarity score 29.396797773402543\n",
            "2009 NCAA Basketball Tournament, with similarity score 29.22700156150048\n",
            "Access Hollywood, with similarity score 28.971277674055564\n"
          ],
          "name": "stdout"
        }
      ]
    },
    {
      "cell_type": "code",
      "metadata": {
        "id": "f6OasOdfs8Ru",
        "colab_type": "code",
        "colab": {}
      },
      "source": [
        ""
      ],
      "execution_count": 0,
      "outputs": []
    }
  ]
}