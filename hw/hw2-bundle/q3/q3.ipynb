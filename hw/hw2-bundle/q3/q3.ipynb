{
  "nbformat": 4,
  "nbformat_minor": 0,
  "metadata": {
    "colab": {
      "name": "q3.ipynb",
      "provenance": [],
      "toc_visible": true
    },
    "kernelspec": {
      "name": "python3",
      "display_name": "Python 3"
    }
  },
  "cells": [
    {
      "cell_type": "code",
      "metadata": {
        "id": "VJDYeQnUmPxW",
        "colab_type": "code",
        "colab": {}
      },
      "source": [
        "import numpy as np\n",
        "import matplotlib.pyplot as plt"
      ],
      "execution_count": 0,
      "outputs": []
    },
    {
      "cell_type": "code",
      "metadata": {
        "id": "dSKBHr8XmUXR",
        "colab_type": "code",
        "colab": {}
      },
      "source": [
        "k = 20\n",
        "LAMBDA = 0.1\n",
        "lr = 0.02\n",
        "MAX_ITERS = 40\n",
        "training_file = 'ratings.train.txt'\n",
        "openfile = open(training_file, 'r')\n",
        "\n",
        "min_user_id = 1000000000\n",
        "max_user_id = -1000000000\n",
        "min_item_id = 1000000000\n",
        "max_item_id = -1000000000\n",
        "\n",
        "for line in openfile:\n",
        "  user_id, item_id, rating = list(int(x) for x in line.strip().split(\"\\t\"))\n",
        "\n",
        "  if user_id < min_user_id: min_user_id = user_id\n",
        "  if user_id > max_user_id: max_user_id = user_id\n",
        "  if item_id < min_item_id: min_item_id = item_id\n",
        "  if item_id > max_item_id: max_item_id = item_id"
      ],
      "execution_count": 0,
      "outputs": []
    },
    {
      "cell_type": "code",
      "metadata": {
        "id": "lzJM8ryemiOV",
        "colab_type": "code",
        "colab": {
          "base_uri": "https://localhost:8080/",
          "height": 697
        },
        "outputId": "6c1b46a2-e5a6-4ed4-a9da-0cf86b9ab397"
      },
      "source": [
        "Q = np.random.rand(max_item_id, k) * 0.5\n",
        "P = np.random.rand(max_user_id, k) * 0.5\n",
        "\n",
        "Iteration = []\n",
        "E_list = []\n",
        "\n",
        "for iter in range(MAX_ITERS):\n",
        "  openfile.seek(0)\n",
        "  for line in openfile:\n",
        "    u, i, r = list(int(x) for x in line.strip().split(\"\\t\"))\n",
        "    u -= 1\n",
        "    i -= 1\n",
        "    epsilon_iu = 2 * (r - Q[i] @ P[u].T)\n",
        "    Q_i_new = Q[i] + lr * (epsilon_iu * P[u] - 2 * LAMBDA * Q[i])\n",
        "    P_u_new = P[u] + lr * (epsilon_iu * Q[i] - 2 * LAMBDA * P[u])\n",
        "    Q[i] = Q_i_new\n",
        "    P[u] = P_u_new\n",
        "\n",
        "  openfile.seek(0)\n",
        "  E = 0\n",
        "  for line in openfile:\n",
        "    u, i, r = list(int(x) for x in line.strip().split(\"\\t\"))\n",
        "    u -= 1\n",
        "    i -= 1\n",
        "    E += (r - Q[i] @ P[u].T) ** 2\n",
        "  E += LAMBDA * (np.sum(P ** 2) + np.sum(Q ** 2))\n",
        "  E_list.append(E)\n",
        "  Iteration.append(iter + 1)\n",
        "  print(\"Iteration {}, error E is: {}\".format(iter + 1, E))"
      ],
      "execution_count": 65,
      "outputs": [
        {
          "output_type": "stream",
          "text": [
            "Iteration 1, error E is: 88531.4995916512\n",
            "Iteration 2, error E is: 86628.93040369936\n",
            "Iteration 3, error E is: 83994.81832936374\n",
            "Iteration 4, error E is: 80824.41283344176\n",
            "Iteration 5, error E is: 77943.68691495991\n",
            "Iteration 6, error E is: 75160.56984484187\n",
            "Iteration 7, error E is: 72438.26483632797\n",
            "Iteration 8, error E is: 69915.59239120041\n",
            "Iteration 9, error E is: 67700.4481051504\n",
            "Iteration 10, error E is: 65818.24333212452\n",
            "Iteration 11, error E is: 64241.88436107069\n",
            "Iteration 12, error E is: 62925.987058562045\n",
            "Iteration 13, error E is: 61825.048407778195\n",
            "Iteration 14, error E is: 60899.755701822214\n",
            "Iteration 15, error E is: 60117.905897662735\n",
            "Iteration 16, error E is: 59453.55039900507\n",
            "Iteration 17, error E is: 58885.82469741129\n",
            "Iteration 18, error E is: 58397.91114132286\n",
            "Iteration 19, error E is: 57976.209354516686\n",
            "Iteration 20, error E is: 57609.685238644386\n",
            "Iteration 21, error E is: 57289.35753083156\n",
            "Iteration 22, error E is: 57007.890091926245\n",
            "Iteration 23, error E is: 56759.26727252063\n",
            "Iteration 24, error E is: 56538.53552572808\n",
            "Iteration 25, error E is: 56341.597992110015\n",
            "Iteration 26, error E is: 56165.05126650286\n",
            "Iteration 27, error E is: 56006.055558198335\n",
            "Iteration 28, error E is: 55862.23116600233\n",
            "Iteration 29, error E is: 55731.575644923585\n",
            "Iteration 30, error E is: 55612.3972472265\n",
            "Iteration 31, error E is: 55503.2611930745\n",
            "Iteration 32, error E is: 55402.946093136416\n",
            "Iteration 33, error E is: 55310.408441818785\n",
            "Iteration 34, error E is: 55224.75355902465\n",
            "Iteration 35, error E is: 55145.211710968564\n",
            "Iteration 36, error E is: 55071.118411250885\n",
            "Iteration 37, error E is: 55001.898111915616\n",
            "Iteration 38, error E is: 54937.05065563585\n",
            "Iteration 39, error E is: 54876.139985927744\n",
            "Iteration 40, error E is: 54818.78471084146\n"
          ],
          "name": "stdout"
        }
      ]
    },
    {
      "cell_type": "code",
      "metadata": {
        "id": "zM3ssI2k8yFH",
        "colab_type": "code",
        "colab": {
          "base_uri": "https://localhost:8080/",
          "height": 295
        },
        "outputId": "bbf8348b-b6ed-46e1-97cc-b21390534a72"
      },
      "source": [
        "plt.figure()\n",
        "plt.plot(Iteration, E_list)\n",
        "plt.xlabel('Iteration')\n",
        "plt.ylabel('Error')\n",
        "plt.title('Stochastic Gradient Descent: Error vs. Iterations')\n",
        "plt.savefig('q3.png')\n",
        "plt.show()"
      ],
      "execution_count": 66,
      "outputs": [
        {
          "output_type": "display_data",
          "data": {
            "image/png": "[encoded data removed]",
            "text/plain": [
              "<Figure size 432x288 with 1 Axes>"
            ]
          },
          "metadata": {
            "tags": []
          }
        }
      ]
    },
    {
      "cell_type": "code",
      "metadata": {
        "id": "hI9epaFA8-z6",
        "colab_type": "code",
        "colab": {}
      },
      "source": [
        ""
      ],
      "execution_count": 0,
      "outputs": []
    }
  ]
}