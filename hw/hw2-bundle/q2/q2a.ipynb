{
  "nbformat": 4,
  "nbformat_minor": 0,
  "metadata": {
    "colab": {
      "name": "q2a.ipynb",
      "provenance": []
    },
    "kernelspec": {
      "name": "python3",
      "display_name": "Python 3"
    }
  },
  "cells": [
    {
      "cell_type": "code",
      "metadata": {
        "id": "kWBayGgLfiRi",
        "colab_type": "code",
        "colab": {
          "base_uri": "https://localhost:8080/",
          "height": 343
        },
        "outputId": "741d499c-0511-486f-93af-9eaa185d9bce"
      },
      "source": [
        "!pip install pyspark\n",
        "!pip install -U -q PyDrive\n",
        "!apt install openjdk-8-jdk-headless -qq\n",
        "import os\n",
        "os.environ[\"JAVA_HOME\"] = \"/usr/lib/jvm/java-8-openjdk-amd64\""
      ],
      "execution_count": 1,
      "outputs": [
        {
          "output_type": "stream",
          "text": [
            "Collecting pyspark\n",
            "\u001b[?25l  Downloading https://files.pythonhosted.org/packages/87/21/f05c186f4ddb01d15d0ddc36ef4b7e3cedbeb6412274a41f26b55a650ee5/pyspark-2.4.4.tar.gz (215.7MB)\n",
            "\u001b[K     |████████████████████████████████| 215.7MB 61kB/s \n",
            "\u001b[?25hCollecting py4j==0.10.7\n",
            "\u001b[?25l  Downloading https://files.pythonhosted.org/packages/e3/53/c737818eb9a7dc32a7cd4f1396e787bd94200c3997c72c1dbe028587bd76/py4j-0.10.7-py2.py3-none-any.whl (197kB)\n",
            "\u001b[K     |████████████████████████████████| 204kB 42.9MB/s \n",
            "\u001b[?25hBuilding wheels for collected packages: pyspark\n",
            "  Building wheel for pyspark (setup.py) ... \u001b[?25l\u001b[?25hdone\n",
            "  Created wheel for pyspark: filename=pyspark-2.4.4-py2.py3-none-any.whl size=216130387 sha256=b072dc810d4fb63e27398e4c82cfa417a36c4fc4b19b3f51c25877fcc7b3cfac\n",
            "  Stored in directory: /root/.cache/pip/wheels/ab/09/4d/0d184230058e654eb1b04467dbc1292f00eaa186544604b471\n",
            "Successfully built pyspark\n",
            "Installing collected packages: py4j, pyspark\n",
            "Successfully installed py4j-0.10.7 pyspark-2.4.4\n",
            "openjdk-8-jdk-headless is already the newest version (8u232-b09-0ubuntu1~18.04.1).\n",
            "The following package was automatically installed and is no longer required:\n",
            "  libnvidia-common-430\n",
            "Use 'apt autoremove' to remove it.\n",
            "0 upgraded, 0 newly installed, 0 to remove and 7 not upgraded.\n"
          ],
          "name": "stdout"
        }
      ]
    },
    {
      "cell_type": "code",
      "metadata": {
        "id": "hQZM_XCAfptF",
        "colab_type": "code",
        "colab": {}
      },
      "source": [
        "from pydrive.auth import GoogleAuth\n",
        "from pydrive.drive import GoogleDrive\n",
        "from google.colab import auth\n",
        "from oauth2client.client import GoogleCredentials\n",
        "\n",
        "# Authenticate and create the PyDrive client\n",
        "auth.authenticate_user()\n",
        "gauth = GoogleAuth()\n",
        "gauth.credentials = GoogleCredentials.get_application_default()\n",
        "drive = GoogleDrive(gauth)"
      ],
      "execution_count": 0,
      "outputs": []
    },
    {
      "cell_type": "code",
      "metadata": {
        "id": "8tGmnGjif6VG",
        "colab_type": "code",
        "colab": {}
      },
      "source": [
        "id='1E-voIV2ctU4Brw022Na8RHVVRGOoNkO1'\n",
        "downloaded = drive.CreateFile({'id': id})\n",
        "downloaded.GetContentFile('data.txt')\n",
        "\n",
        "id='1yXNlZWMqUcAwDScBrkFChOHJwR1FZXmI'\n",
        "downloaded = drive.CreateFile({'id': id})\n",
        "downloaded.GetContentFile('c1.txt')\n",
        "\n",
        "id='1vfovle9DgaeK0LnbQTH0j7kRaJjsvLtb'\n",
        "downloaded = drive.CreateFile({'id': id})\n",
        "downloaded.GetContentFile('c2.txt')"
      ],
      "execution_count": 0,
      "outputs": []
    },
    {
      "cell_type": "code",
      "metadata": {
        "id": "mRBx_-cYgRBQ",
        "colab_type": "code",
        "colab": {}
      },
      "source": [
        "import pandas as pd\n",
        "import numpy as np\n",
        "import matplotlib.pyplot as plt\n",
        "%matplotlib inline\n",
        "\n",
        "import pyspark\n",
        "from pyspark.sql import *\n",
        "from pyspark.sql.functions import *\n",
        "from pyspark import SparkContext, SparkConf"
      ],
      "execution_count": 0,
      "outputs": []
    },
    {
      "cell_type": "code",
      "metadata": {
        "id": "kxDf1x_agjjL",
        "colab_type": "code",
        "colab": {}
      },
      "source": [
        "# create the session\n",
        "conf = SparkConf().set(\"spark.ui.port\", \"4050\")\n",
        "\n",
        "# create the context\n",
        "sc = pyspark.SparkContext(conf=conf)\n",
        "spark = SparkSession.builder.getOrCreate()"
      ],
      "execution_count": 0,
      "outputs": []
    },
    {
      "cell_type": "code",
      "metadata": {
        "id": "RVFbNn4Lgl7R",
        "colab_type": "code",
        "colab": {}
      },
      "source": [
        "def parseVector(line):\n",
        "  return np.array([float(x) for x in line.split(\" \")])"
      ],
      "execution_count": 0,
      "outputs": []
    },
    {
      "cell_type": "code",
      "metadata": {
        "id": "Q7N7XozXjMC_",
        "colab_type": "code",
        "colab": {}
      },
      "source": [
        "def closestPoint(p, centroids, method = 'd2'):\n",
        "  bestIndex = -1\n",
        "  distance = float(\"+inf\")\n",
        "  for i in range(len(centroids)):\n",
        "    if method == 'd2':\n",
        "      temp_distance = np.sum((p - centroids[i]) ** 2)\n",
        "    elif method == 'd1':\n",
        "      temp_distance = np.sum(np.abs(p - centroids[i]))\n",
        "\n",
        "    if temp_distance < distance:\n",
        "      distance = temp_distance\n",
        "      bestIndex = i\n",
        "\n",
        "  return bestIndex, distance"
      ],
      "execution_count": 0,
      "outputs": []
    },
    {
      "cell_type": "code",
      "metadata": {
        "id": "1Xwci47agvWi",
        "colab_type": "code",
        "colab": {}
      },
      "source": [
        "data = spark.read.text('data.txt').rdd.map(lambda x: x[0]).map(parseVector)\n",
        "c1 = np.loadtxt('c1.txt', delimiter = ' ')\n",
        "c2 = np.loadtxt('c2.txt', delimiter = ' ')"
      ],
      "execution_count": 0,
      "outputs": []
    },
    {
      "cell_type": "code",
      "metadata": {
        "id": "KPMuN4Zzg8th",
        "colab_type": "code",
        "colab": {}
      },
      "source": [
        "MAX_ITER = 20"
      ],
      "execution_count": 0,
      "outputs": []
    },
    {
      "cell_type": "code",
      "metadata": {
        "id": "9IuWPqovJchq",
        "colab_type": "code",
        "colab": {}
      },
      "source": [
        "centroids1 = c1.copy()\n",
        "centroids2 = c2.copy()\n",
        "\n",
        "error_c1_Euclidean_distance = []\n",
        "error_c2_Euclidean_distance = []\n",
        "\n",
        "for ITER in range(MAX_ITER):\n",
        "  closest = data.map(lambda p: (closestPoint(p, centroids1, 'd2')[0], (p, 1, closestPoint(p, centroids1, 'd2')[1])))\n",
        "  pointStats = closest.reduceByKey(lambda p1_c1, p2_c2: (p1_c1[0] + p2_c2[0], p1_c1[1] + p2_c2[1]))\n",
        "  newCentroids = pointStats.map(lambda st: (st[0], st[1][0] / st[1][1])).collect()\n",
        "\n",
        "  error = np.sum(np.array(list(x[1][2] for x in closest.collect())))\n",
        "  error_c1_Euclidean_distance.append(error)\n",
        "\n",
        "  for (i, p) in newCentroids:\n",
        "    centroids1[i] = p\n",
        "\n",
        "for ITER in range(MAX_ITER):\n",
        "  closest = data.map(lambda p: (closestPoint(p, centroids2, 'd2')[0], (p, 1, closestPoint(p, centroids2, 'd2')[1])))\n",
        "  pointStats = closest.reduceByKey(lambda p1_c1, p2_c2: (p1_c1[0] + p2_c2[0], p1_c1[1] + p2_c2[1]))\n",
        "  newCentroids = pointStats.map(lambda st: (st[0], st[1][0] / st[1][1])).collect()\n",
        "\n",
        "  error = np.sum(np.array(list(x[1][2] for x in closest.collect())))\n",
        "  error_c2_Euclidean_distance.append(error)\n",
        "\n",
        "  for (i, p) in newCentroids:\n",
        "    centroids2[i] = p"
      ],
      "execution_count": 0,
      "outputs": []
    },
    {
      "cell_type": "code",
      "metadata": {
        "id": "VLQeR2-8W04C",
        "colab_type": "code",
        "colab": {
          "base_uri": "https://localhost:8080/",
          "height": 295
        },
        "outputId": "f69f57df-b7d6-4ee8-aeb2-b15c6e591577"
      },
      "source": [
        "plt.figure()\n",
        "plt.plot(list(range(1, 21)), np.array(error_c1_Euclidean_distance) / 100000000, label ='c1')\n",
        "plt.plot(list(range(1, 21)), np.array(error_c2_Euclidean_distance) / 100000000, label = 'c2')\n",
        "plt.xticks(list(range(1, 21, 2)))\n",
        "plt.xlabel('iteration')\n",
        "plt.ylabel('cost (1e8)')\n",
        "plt.title('k-means using Euclidean distance')\n",
        "plt.legend(['c1', 'c2'])\n",
        "plt.savefig('Euclidean_distance.png')\n",
        "plt.show()"
      ],
      "execution_count": 231,
      "outputs": [
        {
          "output_type": "display_data",
          "data": {
            "image/png": "[encoded data removed]",
            "text/plain": [
              "<Figure size 432x288 with 1 Axes>"
            ]
          },
          "metadata": {
            "tags": []
          }
        }
      ]
    },
    {
      "cell_type": "code",
      "metadata": {
        "id": "Rg__N0u7nzYs",
        "colab_type": "code",
        "colab": {
          "base_uri": "https://localhost:8080/",
          "height": 51
        },
        "outputId": "50b3c5a0-73aa-45d9-82c6-7bbf1eb1dc43"
      },
      "source": [
        "print(\"The percentage change in c1 by using Euclidean distance is :{}\".format((error_c1_Euclidean_distance[0] - error_c1_Euclidean_distance[10]) / error_c1_Euclidean_distance[0]))\n",
        "print(\"The percentage change in c2 by using Euclidean distance is :{}\".format((error_c2_Euclidean_distance[0] - error_c2_Euclidean_distance[10]) / error_c2_Euclidean_distance[0]))"
      ],
      "execution_count": 223,
      "outputs": [
        {
          "output_type": "stream",
          "text": [
            "The percentage change in c1 by using Euclidean distance is :0.2648391714456054\n",
            "The percentage change in c2 by using Euclidean distance is :0.7669795594605942\n"
          ],
          "name": "stdout"
        }
      ]
    },
    {
      "cell_type": "code",
      "metadata": {
        "id": "BRofQzICpbLZ",
        "colab_type": "code",
        "colab": {}
      },
      "source": [
        ""
      ],
      "execution_count": 0,
      "outputs": []
    }
  ]
}