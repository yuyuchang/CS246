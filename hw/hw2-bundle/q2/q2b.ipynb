{
  "nbformat": 4,
  "nbformat_minor": 0,
  "metadata": {
    "colab": {
      "name": "q2b.ipynb",
      "provenance": []
    },
    "kernelspec": {
      "name": "python3",
      "display_name": "Python 3"
    }
  },
  "cells": [
    {
      "cell_type": "code",
      "metadata": {
        "id": "lfVgLKyftiP6",
        "colab_type": "code",
        "colab": {
          "base_uri": "https://localhost:8080/",
          "height": 343
        },
        "outputId": "0fb21911-13b2-4bb3-b38d-bb86c398a4d1"
      },
      "source": [
        "!pip install pyspark\n",
        "!pip install -U -q PyDrive\n",
        "!apt install openjdk-8-jdk-headless -qq\n",
        "import os\n",
        "os.environ[\"JAVA_HOME\"] = \"/usr/lib/jvm/java-8-openjdk-amd64\""
      ],
      "execution_count": 1,
      "outputs": [
        {
          "output_type": "stream",
          "text": [
            "Collecting pyspark\n",
            "\u001b[?25l  Downloading https://files.pythonhosted.org/packages/87/21/f05c186f4ddb01d15d0ddc36ef4b7e3cedbeb6412274a41f26b55a650ee5/pyspark-2.4.4.tar.gz (215.7MB)\n",
            "\u001b[K     |████████████████████████████████| 215.7MB 56kB/s \n",
            "\u001b[?25hCollecting py4j==0.10.7\n",
            "\u001b[?25l  Downloading https://files.pythonhosted.org/packages/e3/53/c737818eb9a7dc32a7cd4f1396e787bd94200c3997c72c1dbe028587bd76/py4j-0.10.7-py2.py3-none-any.whl (197kB)\n",
            "\u001b[K     |████████████████████████████████| 204kB 46.8MB/s \n",
            "\u001b[?25hBuilding wheels for collected packages: pyspark\n",
            "  Building wheel for pyspark (setup.py) ... \u001b[?25l\u001b[?25hdone\n",
            "  Created wheel for pyspark: filename=pyspark-2.4.4-py2.py3-none-any.whl size=216130387 sha256=3620002570a415ade455df327462b604e3e61f8e2797800efb61a4c71f74152d\n",
            "  Stored in directory: /root/.cache/pip/wheels/ab/09/4d/0d184230058e654eb1b04467dbc1292f00eaa186544604b471\n",
            "Successfully built pyspark\n",
            "Installing collected packages: py4j, pyspark\n",
            "Successfully installed py4j-0.10.7 pyspark-2.4.4\n",
            "openjdk-8-jdk-headless is already the newest version (8u232-b09-0ubuntu1~18.04.1).\n",
            "The following package was automatically installed and is no longer required:\n",
            "  libnvidia-common-430\n",
            "Use 'apt autoremove' to remove it.\n",
            "0 upgraded, 0 newly installed, 0 to remove and 7 not upgraded.\n"
          ],
          "name": "stdout"
        }
      ]
    },
    {
      "cell_type": "code",
      "metadata": {
        "id": "yh7qSUOstnBy",
        "colab_type": "code",
        "colab": {}
      },
      "source": [
        "from pydrive.auth import GoogleAuth\n",
        "from pydrive.drive import GoogleDrive\n",
        "from google.colab import auth\n",
        "from oauth2client.client import GoogleCredentials\n",
        "\n",
        "# Authenticate and create the PyDrive client\n",
        "auth.authenticate_user()\n",
        "gauth = GoogleAuth()\n",
        "gauth.credentials = GoogleCredentials.get_application_default()\n",
        "drive = GoogleDrive(gauth)"
      ],
      "execution_count": 0,
      "outputs": []
    },
    {
      "cell_type": "code",
      "metadata": {
        "id": "i8cJTFRut4H4",
        "colab_type": "code",
        "colab": {}
      },
      "source": [
        "id='1E-voIV2ctU4Brw022Na8RHVVRGOoNkO1'\n",
        "downloaded = drive.CreateFile({'id': id})\n",
        "downloaded.GetContentFile('data.txt')\n",
        "\n",
        "id='1yXNlZWMqUcAwDScBrkFChOHJwR1FZXmI'\n",
        "downloaded = drive.CreateFile({'id': id})\n",
        "downloaded.GetContentFile('c1.txt')\n",
        "\n",
        "id='1vfovle9DgaeK0LnbQTH0j7kRaJjsvLtb'\n",
        "downloaded = drive.CreateFile({'id': id})\n",
        "downloaded.GetContentFile('c2.txt')"
      ],
      "execution_count": 0,
      "outputs": []
    },
    {
      "cell_type": "code",
      "metadata": {
        "id": "mYRV37rit_tZ",
        "colab_type": "code",
        "colab": {}
      },
      "source": [
        "import pandas as pd\n",
        "import numpy as np\n",
        "import matplotlib.pyplot as plt\n",
        "%matplotlib inline\n",
        "\n",
        "import pyspark\n",
        "from pyspark.sql import *\n",
        "from pyspark.sql.functions import *\n",
        "from pyspark import SparkContext, SparkConf"
      ],
      "execution_count": 0,
      "outputs": []
    },
    {
      "cell_type": "code",
      "metadata": {
        "id": "BhBhzuQxuCdb",
        "colab_type": "code",
        "colab": {}
      },
      "source": [
        "# create the session\n",
        "conf = SparkConf().set(\"spark.ui.port\", \"4050\")\n",
        "\n",
        "# create the context\n",
        "sc = pyspark.SparkContext(conf=conf)\n",
        "spark = SparkSession.builder.getOrCreate()"
      ],
      "execution_count": 0,
      "outputs": []
    },
    {
      "cell_type": "code",
      "metadata": {
        "id": "yXdNdo-UuERN",
        "colab_type": "code",
        "colab": {}
      },
      "source": [
        "def parseVector(line):\n",
        "  return np.array([float(x) for x in line.split(\" \")])\n",
        "\n",
        "def closestPoint(p, centroids, method = 'd2'):\n",
        "  bestIndex = -1\n",
        "  distance = float(\"+inf\")\n",
        "  for i in range(len(centroids)):\n",
        "    if method == 'd2':\n",
        "      temp_distance = np.sum((p - centroids[i]) ** 2)\n",
        "    elif method == 'd1':\n",
        "      temp_distance = np.sum(np.abs(p - centroids[i]))\n",
        "\n",
        "    if temp_distance < distance:\n",
        "      distance = temp_distance\n",
        "      bestIndex = i\n",
        "\n",
        "  return bestIndex, distance"
      ],
      "execution_count": 0,
      "outputs": []
    },
    {
      "cell_type": "code",
      "metadata": {
        "id": "OCTyn_lZuJLA",
        "colab_type": "code",
        "colab": {}
      },
      "source": [
        "data = spark.read.text('data.txt').rdd.map(lambda x: x[0]).map(parseVector)\n",
        "c1 = np.loadtxt('c1.txt', delimiter = ' ')\n",
        "c2 = np.loadtxt('c2.txt', delimiter = ' ')"
      ],
      "execution_count": 0,
      "outputs": []
    },
    {
      "cell_type": "code",
      "metadata": {
        "id": "2x1AczL9uLhf",
        "colab_type": "code",
        "colab": {}
      },
      "source": [
        "MAX_ITER = 20\n",
        "\n",
        "centroids1 = c1.copy()\n",
        "centroids2 = c2.copy()\n",
        "\n",
        "error_c1_Manhattan_distance = []\n",
        "error_c2_Manhattan_distance = []\n",
        "\n",
        "for ITER in range(MAX_ITER):\n",
        "  closest = data.map(lambda p: (closestPoint(p, centroids1, 'd1')[0], (p, 1, closestPoint(p, centroids1, 'd1')[1])))\n",
        "  pointStats = closest.reduceByKey(lambda p1_c1, p2_c2: (p1_c1[0] + p2_c2[0], p1_c1[1] + p2_c2[1]))\n",
        "  newCentroids = pointStats.map(lambda st: (st[0], st[1][0] / st[1][1])).collect()\n",
        "\n",
        "  error = np.sum(np.array(list(x[1][2] for x in closest.collect())))\n",
        "  error_c1_Manhattan_distance.append(error)\n",
        "\n",
        "  for (i, p) in newCentroids:\n",
        "    centroids1[i] = p\n",
        "\n",
        "for ITER in range(MAX_ITER):\n",
        "  closest = data.map(lambda p: (closestPoint(p, centroids2, 'd1')[0], (p, 1, closestPoint(p, centroids2, 'd1')[1])))\n",
        "  pointStats = closest.reduceByKey(lambda p1_c1, p2_c2: (p1_c1[0] + p2_c2[0], p1_c1[1] + p2_c2[1]))\n",
        "  newCentroids = pointStats.map(lambda st: (st[0], st[1][0] / st[1][1])).collect()\n",
        "\n",
        "  error = np.sum(np.array(list(x[1][2] for x in closest.collect())))\n",
        "  error_c2_Manhattan_distance.append(error)\n",
        "\n",
        "  for (i, p) in newCentroids:\n",
        "    centroids2[i] = p"
      ],
      "execution_count": 0,
      "outputs": []
    },
    {
      "cell_type": "code",
      "metadata": {
        "id": "pLwiVUUHuQqT",
        "colab_type": "code",
        "colab": {
          "base_uri": "https://localhost:8080/",
          "height": 295
        },
        "outputId": "96398da6-40c4-4d6a-f5dd-96cad6d8b6bb"
      },
      "source": [
        "plt.figure()\n",
        "plt.plot(list(range(1, 21)), np.array(error_c1_Manhattan_distance), label = 'c1')\n",
        "plt.plot(list(range(1, 21)), np.array(error_c2_Manhattan_distance), label = 'c2')\n",
        "plt.xticks(list(range(1, 21, 2)))\n",
        "plt.xlabel('iteration')\n",
        "plt.ylabel('cost')\n",
        "plt.legend(['c1', 'c2'])\n",
        "plt.title('k-means using Manhattan distance')\n",
        "plt.savefig('Manhattan_distance.png')\n",
        "plt.show()"
      ],
      "execution_count": 9,
      "outputs": [
        {
          "output_type": "display_data",
          "data": {
            "image/png": "[encoded data removed]",
            "text/plain": [
              "<Figure size 432x288 with 1 Axes>"
            ]
          },
          "metadata": {
            "tags": []
          }
        }
      ]
    },
    {
      "cell_type": "code",
      "metadata": {
        "id": "6a5mRP5QuStU",
        "colab_type": "code",
        "colab": {
          "base_uri": "https://localhost:8080/",
          "height": 51
        },
        "outputId": "f31e55a2-2f3e-42fa-c324-35b93c0a9c48"
      },
      "source": [
        "print(\"The percentage change in c1 by using Manhattan distance is :{}\".format((error_c1_Manhattan_distance[0] - error_c1_Manhattan_distance[10]) / error_c1_Manhattan_distance[0]))\n",
        "print(\"The percentage change in c2 by using Manhattan distance is :{}\".format((error_c2_Manhattan_distance[0] - error_c2_Manhattan_distance[10]) / error_c2_Manhattan_distance[0]))"
      ],
      "execution_count": 10,
      "outputs": [
        {
          "output_type": "stream",
          "text": [
            "The percentage change in c1 by using Manhattan distance is :0.18654926116799248\n",
            "The percentage change in c2 by using Manhattan distance is :0.5155409910238924\n"
          ],
          "name": "stdout"
        }
      ]
    },
    {
      "cell_type": "code",
      "metadata": {
        "id": "VwIgonUhuWDx",
        "colab_type": "code",
        "colab": {}
      },
      "source": [
        ""
      ],
      "execution_count": 0,
      "outputs": []
    }
  ]
}