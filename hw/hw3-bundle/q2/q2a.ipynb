{
  "nbformat": 4,
  "nbformat_minor": 0,
  "metadata": {
    "colab": {
      "name": "q2a.ipynb",
      "provenance": []
    },
    "kernelspec": {
      "name": "python3",
      "display_name": "Python 3"
    }
  },
  "cells": [
    {
      "cell_type": "code",
      "metadata": {
        "id": "s70_tSmIpe4w",
        "colab_type": "code",
        "colab": {
          "base_uri": "https://localhost:8080/",
          "height": 343
        },
        "outputId": "73c3e723-93d3-49ac-eb9b-9e98b64652de"
      },
      "source": [
        "!pip install pyspark\n",
        "!pip install -U -q PyDrive\n",
        "!apt install openjdk-8-jdk-headless -qq\n",
        "import os\n",
        "os.environ[\"JAVA_HOME\"] = \"/usr/lib/jvm/java-8-openjdk-amd64\""
      ],
      "execution_count": 1,
      "outputs": [
        {
          "output_type": "stream",
          "text": [
            "Collecting pyspark\n",
            "\u001b[?25l  Downloading https://files.pythonhosted.org/packages/9a/5a/271c416c1c2185b6cb0151b29a91fff6fcaed80173c8584ff6d20e46b465/pyspark-2.4.5.tar.gz (217.8MB)\n",
            "\u001b[K     |████████████████████████████████| 217.8MB 61kB/s \n",
            "\u001b[?25hCollecting py4j==0.10.7\n",
            "\u001b[?25l  Downloading https://files.pythonhosted.org/packages/e3/53/c737818eb9a7dc32a7cd4f1396e787bd94200c3997c72c1dbe028587bd76/py4j-0.10.7-py2.py3-none-any.whl (197kB)\n",
            "\u001b[K     |████████████████████████████████| 204kB 37.4MB/s \n",
            "\u001b[?25hBuilding wheels for collected packages: pyspark\n",
            "  Building wheel for pyspark (setup.py) ... \u001b[?25l\u001b[?25hdone\n",
            "  Created wheel for pyspark: filename=pyspark-2.4.5-py2.py3-none-any.whl size=218257927 sha256=e0f8ffeef7d8e56e3e0ae637e6877e96812df4df0f1abb88f81eba92fc013f44\n",
            "  Stored in directory: /root/.cache/pip/wheels/bf/db/04/61d66a5939364e756eb1c1be4ec5bdce6e04047fc7929a3c3c\n",
            "Successfully built pyspark\n",
            "Installing collected packages: py4j, pyspark\n",
            "Successfully installed py4j-0.10.7 pyspark-2.4.5\n",
            "openjdk-8-jdk-headless is already the newest version (8u242-b08-0ubuntu3~18.04).\n",
            "The following package was automatically installed and is no longer required:\n",
            "  libnvidia-common-430\n",
            "Use 'apt autoremove' to remove it.\n",
            "0 upgraded, 0 newly installed, 0 to remove and 25 not upgraded.\n"
          ],
          "name": "stdout"
        }
      ]
    },
    {
      "cell_type": "code",
      "metadata": {
        "id": "izxaE5M6pm3U",
        "colab_type": "code",
        "colab": {}
      },
      "source": [
        "from pydrive.auth import GoogleAuth\n",
        "from pydrive.drive import GoogleDrive\n",
        "from google.colab import auth\n",
        "from oauth2client.client import GoogleCredentials\n",
        "\n",
        "# Authenticate and create the PyDrive client\n",
        "auth.authenticate_user()\n",
        "gauth = GoogleAuth()\n",
        "gauth.credentials = GoogleCredentials.get_application_default()\n",
        "drive = GoogleDrive(gauth)"
      ],
      "execution_count": 0,
      "outputs": []
    },
    {
      "cell_type": "code",
      "metadata": {
        "id": "1SNSPcLzpq_h",
        "colab_type": "code",
        "colab": {}
      },
      "source": [
        "import pandas as pd\n",
        "import numpy as np\n",
        "import matplotlib.pyplot as plt\n",
        "%matplotlib inline\n",
        "\n",
        "import pyspark\n",
        "from pyspark.sql import *\n",
        "from pyspark.sql.types import *\n",
        "from pyspark.sql.functions import *\n",
        "from pyspark import SparkContext, SparkConf\n",
        "from pyspark.mllib.linalg.distributed import CoordinateMatrix, MatrixEntry, DenseMatrix"
      ],
      "execution_count": 0,
      "outputs": []
    },
    {
      "cell_type": "code",
      "metadata": {
        "id": "RDjdLjNMprqh",
        "colab_type": "code",
        "colab": {}
      },
      "source": [
        "# create the session\n",
        "conf = SparkConf().set(\"spark.ui.port\", \"4050\")\n",
        "\n",
        "# create the context\n",
        "sc = pyspark.SparkContext(conf=conf)\n",
        "spark = SparkSession.builder.getOrCreate()"
      ],
      "execution_count": 0,
      "outputs": []
    },
    {
      "cell_type": "code",
      "metadata": {
        "id": "Rv3_xgvIp5x1",
        "colab_type": "code",
        "colab": {}
      },
      "source": [
        "small_data = sc.textFile('graph-small.txt')\n",
        "full_data = sc.textFile('graph-full.txt')\n",
        "BETA = 0.8"
      ],
      "execution_count": 0,
      "outputs": []
    },
    {
      "cell_type": "code",
      "metadata": {
        "id": "YgAweok3qGN_",
        "colab_type": "code",
        "colab": {}
      },
      "source": [
        "source_dest_pair = full_data.map(lambda x: (int(x.split('\\t')[0]) - 1, int(x.split('\\t')[1]) - 1)).distinct()\n",
        "edges = source_dest_pair.map(lambda x: (x[1], x[0], 1))\n",
        "degrees = source_dest_pair.map(lambda x: (x[0], 1)).reduceByKey(lambda x, y: x + y).map(lambda x: (x[0], x[0], 1 / x[1]))"
      ],
      "execution_count": 0,
      "outputs": []
    },
    {
      "cell_type": "code",
      "metadata": {
        "id": "vZz_HAnGA1wr",
        "colab_type": "code",
        "colab": {}
      },
      "source": [
        "edge_matrix = CoordinateMatrix(edges).toBlockMatrix()\n",
        "degree_inverse_matrix = CoordinateMatrix(degrees).toBlockMatrix()\n",
        "\n",
        "M = edge_matrix.multiply(degree_inverse_matrix)"
      ],
      "execution_count": 0,
      "outputs": []
    },
    {
      "cell_type": "code",
      "metadata": {
        "id": "WS_Mv0-MG5aU",
        "colab_type": "code",
        "colab": {}
      },
      "source": [
        "r_init = []\n",
        "beta_init = []\n",
        "teleport_init = []\n",
        "for i in range(1000):\n",
        "  r_init.append((i, 0, 1 / 1000))\n",
        "  beta_init.append((i, i, BETA))\n",
        "  teleport_init.append((i, 0, (1 - BETA) / 1000))"
      ],
      "execution_count": 0,
      "outputs": []
    },
    {
      "cell_type": "code",
      "metadata": {
        "id": "MZr4jSyrFJvf",
        "colab_type": "code",
        "colab": {}
      },
      "source": [
        "r = CoordinateMatrix(sc.parallelize(r_init)).toBlockMatrix()\n",
        "beta = CoordinateMatrix(sc.parallelize(beta_init)).toBlockMatrix()\n",
        "teleport = CoordinateMatrix(sc.parallelize(teleport_init)).toBlockMatrix()"
      ],
      "execution_count": 0,
      "outputs": []
    },
    {
      "cell_type": "code",
      "metadata": {
        "id": "fp-HWHv3Jcay",
        "colab_type": "code",
        "colab": {}
      },
      "source": [
        "for i in range(40):\n",
        "  r = teleport.add(beta.multiply(M).multiply(r))"
      ],
      "execution_count": 0,
      "outputs": []
    },
    {
      "cell_type": "code",
      "metadata": {
        "id": "uC6IF7zLI_U1",
        "colab_type": "code",
        "colab": {}
      },
      "source": [
        "r_numpy = np.array(r.toLocalMatrix().toArray())\n",
        "min_args = np.argsort(r_numpy, axis = 0)[:5]\n",
        "max_args = np.argsort(-r_numpy, axis = 0)[:5]"
      ],
      "execution_count": 0,
      "outputs": []
    },
    {
      "cell_type": "code",
      "metadata": {
        "id": "HrkgSOpgSu-1",
        "colab_type": "code",
        "colab": {
          "base_uri": "https://localhost:8080/",
          "height": 272
        },
        "outputId": "dc65ee79-9f27-4526-9e94-f1b343c1df1d"
      },
      "source": [
        "print(\"The top 5 node ids with the PageRank scores:\")\n",
        "for args in max_args:\n",
        "  print(\"Node id: {}, PageRank score: {}\".format(args[0] + 1, r_numpy[args][0][0]))\n",
        "\n",
        "print(\"\\n\\n\")\n",
        "\n",
        "print(\"The bottom 5 node ids with the PageRank scores:\")\n",
        "for args in min_args:\n",
        "  print(\"Node id: {}, PageRank score: {}\".format(args[0] + 1, r_numpy[args][0][0]))"
      ],
      "execution_count": 289,
      "outputs": [
        {
          "output_type": "stream",
          "text": [
            "The top 5 node ids with the PageRank scores:\n",
            "Node id: 263, PageRank score: 0.002020291181518219\n",
            "Node id: 537, PageRank score: 0.00194334157145315\n",
            "Node id: 965, PageRank score: 0.0019254478071662631\n",
            "Node id: 243, PageRank score: 0.001852634016241731\n",
            "Node id: 285, PageRank score: 0.0018273721700645144\n",
            "\n",
            "\n",
            "\n",
            "The bottom 5 node ids with the PageRank scores:\n",
            "Node id: 558, PageRank score: 0.0003286018525215297\n",
            "Node id: 93, PageRank score: 0.0003513568937516577\n",
            "Node id: 62, PageRank score: 0.00035314810510596274\n",
            "Node id: 424, PageRank score: 0.00035481538649301454\n",
            "Node id: 408, PageRank score: 0.00038779848719291705\n"
          ],
          "name": "stdout"
        }
      ]
    },
    {
      "cell_type": "code",
      "metadata": {
        "id": "CQGYQTU-Sv7f",
        "colab_type": "code",
        "colab": {}
      },
      "source": [
        ""
      ],
      "execution_count": 0,
      "outputs": []
    }
  ]
}