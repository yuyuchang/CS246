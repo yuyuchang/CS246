{
  "nbformat": 4,
  "nbformat_minor": 0,
  "metadata": {
    "colab": {
      "name": "CS246 - Colab 6.ipynb",
      "provenance": [],
      "collapsed_sections": [],
      "toc_visible": true,
      "machine_shape": "hm"
    },
    "kernelspec": {
      "name": "python3",
      "display_name": "Python 3"
    }
  },
  "cells": [
    {
      "cell_type": "markdown",
      "metadata": {
        "id": "kPt5q27L5557",
        "colab_type": "text"
      },
      "source": [
        "# CS246 - Colab 6\n",
        "## node2vec"
      ]
    },
    {
      "cell_type": "markdown",
      "metadata": {
        "id": "p0-YhEpP_Ds-",
        "colab_type": "text"
      },
      "source": [
        "### Setup"
      ]
    },
    {
      "cell_type": "markdown",
      "metadata": {
        "id": "82kmj9fIVlq0",
        "colab_type": "text"
      },
      "source": [
        "First of all, we install the [graph2vec library](https://github.com/VHRanger/graph2vec) which offers a fast implementation of the node2vec method.\n",
        "\n",
        "If you are curious to learn how to implement fast random walks on graphs, I recommend you to [read the blog post](https://www.singlelunch.com/2019/08/01/700x-faster-node2vec-models-fastest-random-walks-on-a-graph/) which explains some of the design choices behind this library."
      ]
    },
    {
      "cell_type": "code",
      "metadata": {
        "id": "Ld017NzXCo-g",
        "colab_type": "code",
        "colab": {
          "base_uri": "https://localhost:8080/",
          "height": 598
        },
        "outputId": "4a12621a-79af-44d7-c42e-4b46049a6ca7"
      },
      "source": [
        "!pip install graph2vec-learn"
      ],
      "execution_count": 1,
      "outputs": [
        {
          "output_type": "stream",
          "text": [
            "Collecting graph2vec-learn\n",
            "  Downloading https://files.pythonhosted.org/packages/fe/ef/cf8254cc6feec618f319a9c866ee7a19f481e4eb8c67631cd086fe62280d/graph2vec-learn-0.1.3.tar.gz\n",
            "Requirement already satisfied: gensim in /usr/local/lib/python3.6/dist-packages (from graph2vec-learn) (3.6.0)\n",
            "Requirement already satisfied: networkx in /usr/local/lib/python3.6/dist-packages (from graph2vec-learn) (2.4)\n",
            "Requirement already satisfied: numba in /usr/local/lib/python3.6/dist-packages (from graph2vec-learn) (0.47.0)\n",
            "Requirement already satisfied: numpy in /usr/local/lib/python3.6/dist-packages (from graph2vec-learn) (1.17.5)\n",
            "Requirement already satisfied: pandas in /usr/local/lib/python3.6/dist-packages (from graph2vec-learn) (0.25.3)\n",
            "Requirement already satisfied: scipy in /usr/local/lib/python3.6/dist-packages (from graph2vec-learn) (1.4.1)\n",
            "Requirement already satisfied: six>=1.5.0 in /usr/local/lib/python3.6/dist-packages (from gensim->graph2vec-learn) (1.12.0)\n",
            "Requirement already satisfied: smart-open>=1.2.1 in /usr/local/lib/python3.6/dist-packages (from gensim->graph2vec-learn) (1.9.0)\n",
            "Requirement already satisfied: decorator>=4.3.0 in /usr/local/lib/python3.6/dist-packages (from networkx->graph2vec-learn) (4.4.1)\n",
            "Requirement already satisfied: setuptools in /usr/local/lib/python3.6/dist-packages (from numba->graph2vec-learn) (45.1.0)\n",
            "Requirement already satisfied: llvmlite>=0.31.0dev0 in /usr/local/lib/python3.6/dist-packages (from numba->graph2vec-learn) (0.31.0)\n",
            "Requirement already satisfied: python-dateutil>=2.6.1 in /usr/local/lib/python3.6/dist-packages (from pandas->graph2vec-learn) (2.6.1)\n",
            "Requirement already satisfied: pytz>=2017.2 in /usr/local/lib/python3.6/dist-packages (from pandas->graph2vec-learn) (2018.9)\n",
            "Requirement already satisfied: boto>=2.32 in /usr/local/lib/python3.6/dist-packages (from smart-open>=1.2.1->gensim->graph2vec-learn) (2.49.0)\n",
            "Requirement already satisfied: requests in /usr/local/lib/python3.6/dist-packages (from smart-open>=1.2.1->gensim->graph2vec-learn) (2.21.0)\n",
            "Requirement already satisfied: boto3 in /usr/local/lib/python3.6/dist-packages (from smart-open>=1.2.1->gensim->graph2vec-learn) (1.11.15)\n",
            "Requirement already satisfied: certifi>=2017.4.17 in /usr/local/lib/python3.6/dist-packages (from requests->smart-open>=1.2.1->gensim->graph2vec-learn) (2019.11.28)\n",
            "Requirement already satisfied: chardet<3.1.0,>=3.0.2 in /usr/local/lib/python3.6/dist-packages (from requests->smart-open>=1.2.1->gensim->graph2vec-learn) (3.0.4)\n",
            "Requirement already satisfied: idna<2.9,>=2.5 in /usr/local/lib/python3.6/dist-packages (from requests->smart-open>=1.2.1->gensim->graph2vec-learn) (2.8)\n",
            "Requirement already satisfied: urllib3<1.25,>=1.21.1 in /usr/local/lib/python3.6/dist-packages (from requests->smart-open>=1.2.1->gensim->graph2vec-learn) (1.24.3)\n",
            "Requirement already satisfied: jmespath<1.0.0,>=0.7.1 in /usr/local/lib/python3.6/dist-packages (from boto3->smart-open>=1.2.1->gensim->graph2vec-learn) (0.9.4)\n",
            "Requirement already satisfied: botocore<1.15.0,>=1.14.15 in /usr/local/lib/python3.6/dist-packages (from boto3->smart-open>=1.2.1->gensim->graph2vec-learn) (1.14.15)\n",
            "Requirement already satisfied: s3transfer<0.4.0,>=0.3.0 in /usr/local/lib/python3.6/dist-packages (from boto3->smart-open>=1.2.1->gensim->graph2vec-learn) (0.3.3)\n",
            "Requirement already satisfied: docutils<0.16,>=0.10 in /usr/local/lib/python3.6/dist-packages (from botocore<1.15.0,>=1.14.15->boto3->smart-open>=1.2.1->gensim->graph2vec-learn) (0.15.2)\n",
            "Building wheels for collected packages: graph2vec-learn\n",
            "  Building wheel for graph2vec-learn (setup.py) ... \u001b[?25l\u001b[?25hdone\n",
            "  Created wheel for graph2vec-learn: filename=graph2vec_learn-0.1.3-cp36-none-any.whl size=5709 sha256=b9d8b71cfdb18e59a6d64321f8fd48c6940a9608a304cfb929da1e6a189ca5e7\n",
            "  Stored in directory: /root/.cache/pip/wheels/0d/96/f7/beab1e19b0a3aad6e7ce16093548b44011a03108c2b9819592\n",
            "Successfully built graph2vec-learn\n",
            "Installing collected packages: graph2vec-learn\n",
            "Successfully installed graph2vec-learn-0.1.3\n"
          ],
          "name": "stdout"
        }
      ]
    },
    {
      "cell_type": "markdown",
      "metadata": {
        "id": "pUCNE4-5Wc8b",
        "colab_type": "text"
      },
      "source": [
        "We now import the library, and create a small wrapper class which will expose only the few hyperparameters we will need to tune in this Colab"
      ]
    },
    {
      "cell_type": "code",
      "metadata": {
        "id": "QiIPtudrGlTf",
        "colab_type": "code",
        "colab": {}
      },
      "source": [
        "import graph2vec\n",
        "import networkx as nx\n",
        "\n",
        "class Node2Vec(graph2vec.Node2Vec):\n",
        "  \"\"\"\n",
        "  Parameters\n",
        "  ----------\n",
        "  p : float\n",
        "      p parameter of node2vec\n",
        "  q : float\n",
        "      q parameter of node2vec\n",
        "  d : int\n",
        "      dimensionality of the embedding vectors\n",
        "  \"\"\"\n",
        "  def __init__(self, p=1, q=1, d=32):\n",
        "    super().__init__(\n",
        "                     walklen=10,\n",
        "                     epochs=50,\n",
        "                     return_weight=1.0/p,\n",
        "                     neighbor_weight=1.0/q,\n",
        "                     threads=0,\n",
        "                     w2vparams={'window': 4,\n",
        "                                'size': d, \n",
        "                                'negative': 5, \n",
        "                                'iter': 10,\n",
        "                                'ns_exponent': 0.5,\n",
        "                                'batch_words': 128})"
      ],
      "execution_count": 0,
      "outputs": []
    },
    {
      "cell_type": "markdown",
      "metadata": {
        "id": "qwtlO4_m_LbQ",
        "colab_type": "text"
      },
      "source": [
        "Lastly, let's import some of the common libraries needed for our task."
      ]
    },
    {
      "cell_type": "code",
      "metadata": {
        "id": "twk-K-jilWK7",
        "colab_type": "code",
        "colab": {}
      },
      "source": [
        "import pandas as pd\n",
        "import numpy as np\n",
        "import matplotlib.pyplot as plt\n",
        "%matplotlib inline"
      ],
      "execution_count": 0,
      "outputs": []
    },
    {
      "cell_type": "markdown",
      "metadata": {
        "id": "kAYRX2PMm0L6",
        "colab_type": "text"
      },
      "source": [
        "### Example\n",
        "\n",
        "In the example below, we will try to reproduce the plot in slide 8 of [CS246 - Lecture 12](http://web.stanford.edu/class/cs246/slides/12-graphs2.pdf)."
      ]
    },
    {
      "cell_type": "code",
      "metadata": {
        "id": "2PsVt5f2CsmP",
        "colab_type": "code",
        "colab": {
          "base_uri": "https://localhost:8080/",
          "height": 68
        },
        "outputId": "ae0496ef-fb95-4f8b-e29f-2dbf1f3019ad"
      },
      "source": [
        "# Load the Zachary's Karate Club as a NetworkX Graph object\n",
        "KCG = nx.karate_club_graph()\n",
        "\n",
        "# Fit embedding model to the Karate Club graph\n",
        "n2v = Node2Vec(1, 1, 2)\n",
        "n2v.fit(KCG)"
      ],
      "execution_count": 4,
      "outputs": [
        {
          "output_type": "stream",
          "text": [
            "Making walks... Done, T=1.35\n",
            "Mapping Walk Names... Done, T=0.04\n",
            "Training W2V... Done, T=0.43\n"
          ],
          "name": "stdout"
        }
      ]
    },
    {
      "cell_type": "code",
      "metadata": {
        "id": "ZEjzhwEiC1HD",
        "colab_type": "code",
        "colab": {}
      },
      "source": [
        "embeddings = []\n",
        "for node in KCG.nodes:\n",
        "  embedding = list(n2v.predict(node))\n",
        "  club = KCG.nodes[node]['club']\n",
        "  embeddings.append(embedding + [club])\n",
        "\n",
        "# Construct a pandas dataframe with the 2D embeddings from node2vec,\n",
        "# plus the club name that each node belongs to after the split\n",
        "df = pd.DataFrame(embeddings, columns=['x', 'y', 'club'])"
      ],
      "execution_count": 0,
      "outputs": []
    },
    {
      "cell_type": "code",
      "metadata": {
        "id": "fJBTilMGLInb",
        "colab_type": "code",
        "colab": {
          "base_uri": "https://localhost:8080/",
          "height": 296
        },
        "outputId": "0147daec-91d0-42a9-faa4-2c42484aea71"
      },
      "source": [
        "# Nodes who stayed with the Mr. Hi will be plotted in red, while nodes\n",
        "# who moved with the Officer will be plotted in blue\n",
        "colors = ['red' if x == 'Mr. Hi' else 'blue' for x in df.club]\n",
        "df.plot.scatter(x='x', y='y', s=50, c=colors)"
      ],
      "execution_count": 6,
      "outputs": [
        {
          "output_type": "execute_result",
          "data": {
            "text/plain": [
              "<matplotlib.axes._subplots.AxesSubplot at 0x7f970dd62198>"
            ]
          },
          "metadata": {
            "tags": []
          },
          "execution_count": 6
        },
        {
          "output_type": "display_data",
          "data": {
            "image/png": "[encoded data removed]",
            "text/plain": [
              "<Figure size 432x288 with 1 Axes>"
            ]
          },
          "metadata": {
            "tags": []
          }
        }
      ]
    },
    {
      "cell_type": "markdown",
      "metadata": {
        "id": "e6vmpmj6Ylph",
        "colab_type": "text"
      },
      "source": [
        "If our example trained correctly, you should notice a clear separation between the blue and red nodes.  Solely from the graph structure, node2vec could predict how the Zachary's Karate Club split!\n",
        "\n",
        "Tune the hyperparameters ```p``` and ```q```, and notice how they affect the resulting embeddings."
      ]
    },
    {
      "cell_type": "markdown",
      "metadata": {
        "id": "vbmr23B2rJKR",
        "colab_type": "text"
      },
      "source": [
        "### Your Task"
      ]
    },
    {
      "cell_type": "markdown",
      "metadata": {
        "id": "x15OQeyys1xd",
        "colab_type": "text"
      },
      "source": [
        "Now we will study the behavior of node2vec on [barbell graphs](https://en.wikipedia.org/wiki/Barbell_graph).\n",
        "\n",
        "Below you can see a toy example of a barbell graph generated with NetworkX."
      ]
    },
    {
      "cell_type": "code",
      "metadata": {
        "id": "xUYxs4E8aHgG",
        "colab_type": "code",
        "colab": {
          "base_uri": "https://localhost:8080/",
          "height": 319
        },
        "outputId": "6a80b340-638e-4b70-a79f-536cf5980d52"
      },
      "source": [
        "toy_barbell = nx.barbell_graph(7, 2)\n",
        "nx.draw_kamada_kawai(toy_barbell)"
      ],
      "execution_count": 7,
      "outputs": [
        {
          "output_type": "display_data",
          "data": {
            "image/png": "[encoded data removed]",
            "text/plain": [
              "<Figure size 432x288 with 1 Axes>"
            ]
          },
          "metadata": {
            "tags": []
          }
        }
      ]
    },
    {
      "cell_type": "markdown",
      "metadata": {
        "id": "G7K3-57FyD8D",
        "colab_type": "text"
      },
      "source": [
        "\n",
        "\n",
        "```\n",
        "# This is formatted as code\n",
        "```\n",
        "\n",
        "Generate a larger barbell graph, where each complete graph has exactly 1000 nodes, and the path length between the complete graphs is equal to 1 (i.e., all the nodes in the barbell graph belong to either one of the two complete graphs, and the connecting path does not have any internal node).\n",
        "\n",
        "Then, learn node2vec embeddings on this graph, setting ```p = 1, q = 1``` and ```d = 10```."
      ]
    },
    {
      "cell_type": "code",
      "metadata": {
        "id": "k_rmp-SvaIOt",
        "colab_type": "code",
        "colab": {
          "base_uri": "https://localhost:8080/",
          "height": 153
        },
        "outputId": "01c466af-c4e0-4a45-e490-0fb140e24609"
      },
      "source": [
        "# YOUR CODE HERE\n",
        "bar_bell_no_path = nx.barbell_graph(1000, 0)\n",
        "print(nx.info(bar_bell_no_path))\n",
        "\n",
        "n2v_bar_bell_no_path = Node2Vec(1, 1, 10)\n",
        "n2v_bar_bell_no_path.fit(bar_bell_no_path)"
      ],
      "execution_count": 32,
      "outputs": [
        {
          "output_type": "stream",
          "text": [
            "Name: \n",
            "Type: Graph\n",
            "Number of nodes: 2000\n",
            "Number of edges: 999001\n",
            "Average degree: 999.0010\n",
            "Making walks... Done, T=0.52\n",
            "Mapping Walk Names... Done, T=1.53\n",
            "Training W2V... Done, T=31.66\n"
          ],
          "name": "stdout"
        }
      ]
    },
    {
      "cell_type": "markdown",
      "metadata": {
        "id": "fyxZBVwhzLQe",
        "colab_type": "text"
      },
      "source": [
        "Write a function that takes as input a node id ```n``` in the graph (e.g., ```5```) and returns a list containining the cosine similarity between the node2vec vector of the input node ```n``` and all the nodes in the given barbell graph (including the similarity with ```n``` itself)."
      ]
    },
    {
      "cell_type": "code",
      "metadata": {
        "id": "aq7advtkjXSp",
        "colab_type": "code",
        "colab": {
          "base_uri": "https://localhost:8080/",
          "height": 34
        },
        "outputId": "2a8777fb-0ee1-4fcd-aa93-fb6e66412bc3"
      },
      "source": [
        "# YOUR CODE HERE\n",
        "def cos_sim(a, b):\n",
        "  return np.dot(a, b) / (np.linalg.norm(a) * np.linalg.norm(b))\n",
        "\n",
        "def func(G, n2v, n = 0):\n",
        "  cos_sim_list = []\n",
        "  vec_n = n2v.predict(n)\n",
        "\n",
        "  for i in range(len(G)):\n",
        "    vec_i = n2v.predict(i)\n",
        "    cos_sim_list.append(cos_sim(vec_n, vec_i))\n",
        "\n",
        "  return cos_sim_list\n",
        "\n",
        "def count_neighbors(cos_sim_list):\n",
        "  count = 0\n",
        "  for x in cos_sim_list:\n",
        "    if x > 0.8:\n",
        "      count += 1\n",
        "\n",
        "  return count\n",
        "\n",
        "def exactly_n_neighbors(G, n2v, n = 1000):\n",
        "  count = 0\n",
        "  for i in range(len(G)):\n",
        "    if count_neighbors(func(G, n2v, i)) == n:\n",
        "      count += 1\n",
        "\n",
        "  return count\n",
        "\n",
        "def less_than_n_neighbors(G, n2v, n = 100):\n",
        "  count = 0\n",
        "  for i in range(len(G)):\n",
        "    if count_neighbors(func(G, n2v, i)) < n:\n",
        "      count += 1\n",
        "\n",
        "  return count\n",
        "\n",
        "print(exactly_n_neighbors(bar_bell_no_path, n2v_bar_bell_no_path, n = 1000))"
      ],
      "execution_count": 44,
      "outputs": [
        {
          "output_type": "stream",
          "text": [
            "2000\n"
          ],
          "name": "stdout"
        }
      ]
    },
    {
      "cell_type": "markdown",
      "metadata": {
        "id": "zw1oNDDD2dZO",
        "colab_type": "text"
      },
      "source": [
        "Generate another barbell graph, this time adding a path of length 51 between the two complete graphs. To find out how, refer to the NetworkX documentation: [https://networkx.github.io/documentation/stable/reference/generated/networkx.generators.classic.barbell_graph.html#networkx.generators.classic.barbell_graph](https://networkx.github.io/documentation/stable/reference/generated/networkx.generators.classic.barbell_graph.html#networkx.generators.classic.barbell_graph)\n",
        "\n",
        "Learn the node2vec embeddings for the nodes of this new graph, using the same hyperparameters as before."
      ]
    },
    {
      "cell_type": "code",
      "metadata": {
        "colab_type": "code",
        "id": "OlPg6k6z65Gk",
        "colab": {
          "base_uri": "https://localhost:8080/",
          "height": 170
        },
        "outputId": "1d8921dd-9cbc-4a38-fd76-95b27480229f"
      },
      "source": [
        "# YOUR CODE HERE\n",
        "bar_bell_with_path = nx.barbell_graph(1000, 50)\n",
        "print(nx.info(bar_bell_with_path))\n",
        "\n",
        "n2v_bar_bell_with_path = Node2Vec(1, 1, 10)\n",
        "n2v_bar_bell_with_path.fit(bar_bell_with_path)\n",
        "\n",
        "print(exactly_n_neighbors(bar_bell_with_path, n2v_bar_bell_with_path, n = 1000))"
      ],
      "execution_count": 45,
      "outputs": [
        {
          "output_type": "stream",
          "text": [
            "Name: \n",
            "Type: Graph\n",
            "Number of nodes: 2050\n",
            "Number of edges: 999051\n",
            "Average degree: 974.6839\n",
            "Making walks... Done, T=0.52\n",
            "Mapping Walk Names... Done, T=0.85\n",
            "Training W2V... Done, T=31.87\n",
            "0\n"
          ],
          "name": "stdout"
        }
      ]
    },
    {
      "cell_type": "code",
      "metadata": {
        "id": "wcVwhHSZ3tTH",
        "colab_type": "code",
        "colab": {
          "base_uri": "https://localhost:8080/",
          "height": 34
        },
        "outputId": "beef6290-5e59-4a9f-91cb-d575401f3987"
      },
      "source": [
        "print(less_than_n_neighbors(bar_bell_with_path, n2v_bar_bell_with_path, n = 100))"
      ],
      "execution_count": 46,
      "outputs": [
        {
          "output_type": "stream",
          "text": [
            "52\n"
          ],
          "name": "stdout"
        }
      ]
    },
    {
      "cell_type": "markdown",
      "metadata": {
        "id": "SIrXJyVNP2AI",
        "colab_type": "text"
      },
      "source": [
        "Once you have working code for each cell above, **head over to Gradescope, read carefully the questions, and submit your solution for this Colab**!\n"
      ]
    }
  ]
}