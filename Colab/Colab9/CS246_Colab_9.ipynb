{
  "nbformat": 4,
  "nbformat_minor": 0,
  "metadata": {
    "colab": {
      "name": "CS246 - Colab 9.ipynb",
      "provenance": [],
      "collapsed_sections": [],
      "toc_visible": true
    },
    "kernelspec": {
      "name": "python3",
      "display_name": "Python 3"
    }
  },
  "cells": [
    {
      "cell_type": "markdown",
      "metadata": {
        "id": "kPt5q27L5557",
        "colab_type": "text"
      },
      "source": [
        "# CS246 - Colab 9\n",
        "## Studying COVID-19"
      ]
    },
    {
      "cell_type": "markdown",
      "metadata": {
        "id": "p0-YhEpP_Ds-",
        "colab_type": "text"
      },
      "source": [
        "### Setup"
      ]
    },
    {
      "cell_type": "markdown",
      "metadata": {
        "id": "Zsj5WYpR9QId",
        "colab_type": "text"
      },
      "source": [
        "Let's setup Spark on your Colab environment.  Run the cell below!"
      ]
    },
    {
      "cell_type": "code",
      "metadata": {
        "id": "k-qHai2252mI",
        "colab_type": "code",
        "colab": {
          "base_uri": "https://localhost:8080/",
          "height": 292
        },
        "outputId": "efd3e84d-26a2-4af7-b8c0-c90b070ee3a9"
      },
      "source": [
        "!pip install pyspark\n",
        "!pip install -U -q PyDrive\n",
        "!apt install openjdk-8-jdk-headless -qq\n",
        "import os\n",
        "os.environ[\"JAVA_HOME\"] = \"/usr/lib/jvm/java-8-openjdk-amd64\""
      ],
      "execution_count": 1,
      "outputs": [
        {
          "output_type": "stream",
          "text": [
            "Collecting pyspark\n",
            "\u001b[?25l  Downloading https://files.pythonhosted.org/packages/9a/5a/271c416c1c2185b6cb0151b29a91fff6fcaed80173c8584ff6d20e46b465/pyspark-2.4.5.tar.gz (217.8MB)\n",
            "\u001b[K     |████████████████████████████████| 217.8MB 60kB/s \n",
            "\u001b[?25hCollecting py4j==0.10.7\n",
            "\u001b[?25l  Downloading https://files.pythonhosted.org/packages/e3/53/c737818eb9a7dc32a7cd4f1396e787bd94200c3997c72c1dbe028587bd76/py4j-0.10.7-py2.py3-none-any.whl (197kB)\n",
            "\u001b[K     |████████████████████████████████| 204kB 50.9MB/s \n",
            "\u001b[?25hBuilding wheels for collected packages: pyspark\n",
            "  Building wheel for pyspark (setup.py) ... \u001b[?25l\u001b[?25hdone\n",
            "  Created wheel for pyspark: filename=pyspark-2.4.5-py2.py3-none-any.whl size=218257927 sha256=755785f385c93d601e3b30be9e965ef89e8bd094a330ce059a2fcabd65c07523\n",
            "  Stored in directory: /root/.cache/pip/wheels/bf/db/04/61d66a5939364e756eb1c1be4ec5bdce6e04047fc7929a3c3c\n",
            "Successfully built pyspark\n",
            "Installing collected packages: py4j, pyspark\n",
            "Successfully installed py4j-0.10.7 pyspark-2.4.5\n",
            "openjdk-8-jdk-headless is already the newest version (8u242-b08-0ubuntu3~18.04).\n",
            "0 upgraded, 0 newly installed, 0 to remove and 25 not upgraded.\n"
          ],
          "name": "stdout"
        }
      ]
    },
    {
      "cell_type": "markdown",
      "metadata": {
        "id": "PUUjUvXe3Sjk",
        "colab_type": "text"
      },
      "source": [
        "Now we authenticate a Google Drive client to download the files we will be processing in our Spark job.\n",
        "\n",
        "**Make sure to follow the interactive instructions.**"
      ]
    },
    {
      "cell_type": "code",
      "metadata": {
        "id": "lRElWs_x2mGh",
        "colab_type": "code",
        "colab": {}
      },
      "source": [
        "from pydrive.auth import GoogleAuth\n",
        "from pydrive.drive import GoogleDrive\n",
        "from google.colab import auth\n",
        "from oauth2client.client import GoogleCredentials\n",
        "\n",
        "# Authenticate and create the PyDrive client\n",
        "auth.authenticate_user()\n",
        "gauth = GoogleAuth()\n",
        "gauth.credentials = GoogleCredentials.get_application_default()\n",
        "drive = GoogleDrive(gauth)"
      ],
      "execution_count": 0,
      "outputs": []
    },
    {
      "cell_type": "code",
      "metadata": {
        "id": "QHsFTGUy2n1c",
        "colab_type": "code",
        "colab": {}
      },
      "source": [
        "id='1qgUxXG2rVDPuTvvoamqDQVNh0DDZ4LUh'\n",
        "downloaded = drive.CreateFile({'id': id})\n",
        "downloaded.GetContentFile('time_series_19-covid-Confirmed.csv')\n",
        "\n",
        "id='1KMR3I0Mz6XHtv5tsjGIIgyLNS0jmniaA'\n",
        "downloaded = drive.CreateFile({'id': id})\n",
        "downloaded.GetContentFile('time_series_19-covid-Deaths.csv')\n",
        "\n",
        "id='1wKgm-A6p6K79hmtDJKRKuK-Cf1kzsIhw'\n",
        "downloaded = drive.CreateFile({'id': id})\n",
        "downloaded.GetContentFile('time_series_19-covid-Recovered.csv')"
      ],
      "execution_count": 0,
      "outputs": []
    },
    {
      "cell_type": "markdown",
      "metadata": {
        "id": "qwtlO4_m_LbQ",
        "colab_type": "text"
      },
      "source": [
        "If you executed the cells above, you should be able to see the dataset we will use for this Colab under the \"Files\" tab on the left panel.\n",
        "\n",
        "Next, we import some of the common libraries needed for our task."
      ]
    },
    {
      "cell_type": "code",
      "metadata": {
        "id": "twk-K-jilWK7",
        "colab_type": "code",
        "colab": {}
      },
      "source": [
        "import pandas as pd\n",
        "import numpy as np\n",
        "import matplotlib.pyplot as plt\n",
        "%matplotlib inline\n",
        "\n",
        "import pyspark\n",
        "from pyspark.sql import *\n",
        "from pyspark.sql.types import *\n",
        "from pyspark.sql.functions import *\n",
        "from pyspark import SparkContext, SparkConf"
      ],
      "execution_count": 0,
      "outputs": []
    },
    {
      "cell_type": "markdown",
      "metadata": {
        "colab_type": "text",
        "id": "BtrJlMBt1Ela"
      },
      "source": [
        "Let's initialize the Spark context."
      ]
    },
    {
      "cell_type": "code",
      "metadata": {
        "colab_type": "code",
        "id": "Vm3sAVeK1EDZ",
        "colab": {}
      },
      "source": [
        "# create the session\n",
        "conf = SparkConf().set(\"spark.ui.port\", \"4050\")\n",
        "\n",
        "# create the context\n",
        "sc = pyspark.SparkContext(conf=conf)\n",
        "spark = SparkSession.builder.getOrCreate()"
      ],
      "execution_count": 0,
      "outputs": []
    },
    {
      "cell_type": "markdown",
      "metadata": {
        "colab_type": "text",
        "id": "YqovskkH1DmC"
      },
      "source": [
        "You can easily check the current version and get the link of the web interface. In the Spark UI, you can monitor the progress of your job and debug the performance bottlenecks (if your Colab is running with a **local runtime**)."
      ]
    },
    {
      "cell_type": "code",
      "metadata": {
        "colab_type": "code",
        "id": "DueQggJc1DDk",
        "colab": {
          "base_uri": "https://localhost:8080/",
          "height": 216
        },
        "outputId": "7e800fcc-7271-4869-d099-a459856fb8bf"
      },
      "source": [
        "spark"
      ],
      "execution_count": 6,
      "outputs": [
        {
          "output_type": "execute_result",
          "data": {
            "text/html": [
              "\n",
              "            <div>\n",
              "                <p><b>SparkSession - in-memory</b></p>\n",
              "                \n",
              "        <div>\n",
              "            <p><b>SparkContext</b></p>\n",
              "\n",
              "            <p><a href=\"http://86c2dd92bf8c:4050\">Spark UI</a></p>\n",
              "\n",
              "            <dl>\n",
              "              <dt>Version</dt>\n",
              "                <dd><code>v2.4.5</code></dd>\n",
              "              <dt>Master</dt>\n",
              "                <dd><code>local[*]</code></dd>\n",
              "              <dt>AppName</dt>\n",
              "                <dd><code>pyspark-shell</code></dd>\n",
              "            </dl>\n",
              "        </div>\n",
              "        \n",
              "            </div>\n",
              "        "
            ],
            "text/plain": [
              "<pyspark.sql.session.SparkSession at 0x7ff5179a7d68>"
            ]
          },
          "metadata": {
            "tags": []
          },
          "execution_count": 6
        }
      ]
    },
    {
      "cell_type": "markdown",
      "metadata": {
        "colab_type": "text",
        "id": "Iid7lXcG1CY8"
      },
      "source": [
        "If you are running this Colab on the Google hosted runtime, the cell below will create a *ngrok* tunnel which will allow you to still check the Spark UI."
      ]
    },
    {
      "cell_type": "code",
      "metadata": {
        "colab_type": "code",
        "id": "sDnGLVPH1BPQ",
        "colab": {
          "base_uri": "https://localhost:8080/",
          "height": 255
        },
        "outputId": "841950cc-393d-4433-896c-87abda6f53de"
      },
      "source": [
        "!wget https://bin.equinox.io/c/4VmDzA7iaHb/ngrok-stable-linux-amd64.zip\n",
        "!unzip ngrok-stable-linux-amd64.zip\n",
        "get_ipython().system_raw('./ngrok http 4050 &')\n",
        "!curl -s http://localhost:4040/api/tunnels | python3 -c \\\n",
        "    \"import sys, json; print(json.load(sys.stdin)['tunnels'][0]['public_url'])\""
      ],
      "execution_count": 7,
      "outputs": [
        {
          "output_type": "stream",
          "text": [
            "--2020-03-10 11:30:36--  https://bin.equinox.io/c/4VmDzA7iaHb/ngrok-stable-linux-amd64.zip\n",
            "Resolving bin.equinox.io (bin.equinox.io)... 34.198.214.201, 34.199.212.211, 52.73.183.190, ...\n",
            "Connecting to bin.equinox.io (bin.equinox.io)|34.198.214.201|:443... connected.\n",
            "HTTP request sent, awaiting response... 200 OK\n",
            "Length: 13773305 (13M) [application/octet-stream]\n",
            "Saving to: ‘ngrok-stable-linux-amd64.zip’\n",
            "\n",
            "ngrok-stable-linux- 100%[===================>]  13.13M  37.9MB/s    in 0.3s    \n",
            "\n",
            "2020-03-10 11:30:37 (37.9 MB/s) - ‘ngrok-stable-linux-amd64.zip’ saved [13773305/13773305]\n",
            "\n",
            "Archive:  ngrok-stable-linux-amd64.zip\n",
            "  inflating: ngrok                   \n",
            "http://fecf16b4.ngrok.io\n"
          ],
          "name": "stdout"
        }
      ]
    },
    {
      "cell_type": "markdown",
      "metadata": {
        "id": "kAYRX2PMm0L6",
        "colab_type": "text"
      },
      "source": [
        "### Data Loading"
      ]
    },
    {
      "cell_type": "markdown",
      "metadata": {
        "id": "7hXdMR6wnEIM",
        "colab_type": "text"
      },
      "source": [
        "In this Colab, we will be analyzing the timeseries data of the Coronavirus COVID-19 Global Cases, collected by Johns Hopkins CSSE.\n",
        "\n",
        "Here you can check a realtime dashboard based on this dataset: [https://www.arcgis.com/apps/opsdashboard/index.html?fbclid=IwAR2hQKsEZ3D38wVtXGryUhP9CG0Z6MYbUM_boPEaV8FBe71wUvDPc65ZG78#/bda7594740fd40299423467b48e9ecf6](https://www.arcgis.com/apps/opsdashboard/index.html?fbclid=IwAR2hQKsEZ3D38wVtXGryUhP9CG0Z6MYbUM_boPEaV8FBe71wUvDPc65ZG78#/bda7594740fd40299423467b48e9ecf6)\n",
        "\n",
        "---\n",
        "\n",
        "\n",
        "\n",
        "*   ```confirmed```: dataframe containing the total number of confirmed COVID-19 cases per day, divided by geographical area\n",
        "*   ```deaths```: dataframe containing the number of deaths per day due to COVID-19, divided by geographical area\n",
        "*   ```recovered```: dataframe containing the number of recoevered patients per day, divided by geographical area\n",
        "\n",
        "\n",
        "\n",
        "\n",
        "\n"
      ]
    },
    {
      "cell_type": "code",
      "metadata": {
        "id": "EUSeIQlNqv6J",
        "colab_type": "code",
        "colab": {}
      },
      "source": [
        "confirmed = spark.read.csv('time_series_19-covid-Confirmed.csv', header=True)\n",
        "deaths = spark.read.csv('time_series_19-covid-Deaths.csv', header=True)\n",
        "recovered = spark.read.csv('time_series_19-covid-Recovered.csv', header=True)"
      ],
      "execution_count": 0,
      "outputs": []
    },
    {
      "cell_type": "code",
      "metadata": {
        "id": "NvyFsE-fLXpg",
        "colab_type": "code",
        "colab": {
          "base_uri": "https://localhost:8080/",
          "height": 867
        },
        "outputId": "0cdf4d3d-2e7a-4fa4-8baa-1deb18a87a37"
      },
      "source": [
        "confirmed.printSchema()"
      ],
      "execution_count": 9,
      "outputs": [
        {
          "output_type": "stream",
          "text": [
            "root\n",
            " |-- Province/State: string (nullable = true)\n",
            " |-- Country/Region: string (nullable = true)\n",
            " |-- Lat: string (nullable = true)\n",
            " |-- Long: string (nullable = true)\n",
            " |-- 1/22/20: string (nullable = true)\n",
            " |-- 1/23/20: string (nullable = true)\n",
            " |-- 1/24/20: string (nullable = true)\n",
            " |-- 1/25/20: string (nullable = true)\n",
            " |-- 1/26/20: string (nullable = true)\n",
            " |-- 1/27/20: string (nullable = true)\n",
            " |-- 1/28/20: string (nullable = true)\n",
            " |-- 1/29/20: string (nullable = true)\n",
            " |-- 1/30/20: string (nullable = true)\n",
            " |-- 1/31/20: string (nullable = true)\n",
            " |-- 2/1/20: string (nullable = true)\n",
            " |-- 2/2/20: string (nullable = true)\n",
            " |-- 2/3/20: string (nullable = true)\n",
            " |-- 2/4/20: string (nullable = true)\n",
            " |-- 2/5/20: string (nullable = true)\n",
            " |-- 2/6/20: string (nullable = true)\n",
            " |-- 2/7/20: string (nullable = true)\n",
            " |-- 2/8/20: string (nullable = true)\n",
            " |-- 2/9/20: string (nullable = true)\n",
            " |-- 2/10/20: string (nullable = true)\n",
            " |-- 2/11/20: string (nullable = true)\n",
            " |-- 2/12/20: string (nullable = true)\n",
            " |-- 2/13/20: string (nullable = true)\n",
            " |-- 2/14/20: string (nullable = true)\n",
            " |-- 2/15/20: string (nullable = true)\n",
            " |-- 2/16/20: string (nullable = true)\n",
            " |-- 2/17/20: string (nullable = true)\n",
            " |-- 2/18/20: string (nullable = true)\n",
            " |-- 2/19/20: string (nullable = true)\n",
            " |-- 2/20/20: string (nullable = true)\n",
            " |-- 2/21/20: string (nullable = true)\n",
            " |-- 2/22/20: string (nullable = true)\n",
            " |-- 2/23/20: string (nullable = true)\n",
            " |-- 2/24/20: string (nullable = true)\n",
            " |-- 2/25/20: string (nullable = true)\n",
            " |-- 2/26/20: string (nullable = true)\n",
            " |-- 2/27/20: string (nullable = true)\n",
            " |-- 2/28/20: string (nullable = true)\n",
            " |-- 2/29/20: string (nullable = true)\n",
            " |-- 3/1/20: string (nullable = true)\n",
            " |-- 3/2/20: string (nullable = true)\n",
            " |-- 3/3/20: string (nullable = true)\n",
            " |-- 3/4/20: string (nullable = true)\n",
            " |-- 3/5/20: string (nullable = true)\n",
            "\n"
          ],
          "name": "stdout"
        }
      ]
    },
    {
      "cell_type": "markdown",
      "metadata": {
        "id": "WV45mAMfrmxA",
        "colab_type": "text"
      },
      "source": [
        "### Your Task"
      ]
    },
    {
      "cell_type": "markdown",
      "metadata": {
        "id": "iLLbq024rr9l",
        "colab_type": "text"
      },
      "source": [
        "We are aware of the great deal of stress we are all experiencing because of the spread of the Coronavirus. As such, we decided to conclude our series of Colabs with a **lightweight task** -- given everything you have learned about Spark during the quarter, this Colab should take you just a few minutes to complete.\n",
        "\n",
        "At the same time, we turned this into an opportunity to raise awareness about the extent of the COVID-19 epidemic.\n",
        "\n",
        "[Stay healthy, wash your hands often](https://www.cdc.gov/coronavirus/2019-ncov/about/index.html), and invest the time you saved on this Colab to be emotionally supportive to your friends and family!\n",
        "\n",
        "Signed, *the CS246 teaching staff*"
      ]
    },
    {
      "cell_type": "code",
      "metadata": {
        "id": "ccei4wpRzcXr",
        "colab_type": "code",
        "colab": {
          "base_uri": "https://localhost:8080/",
          "height": 34
        },
        "outputId": "14ea6894-995b-4a7c-c02e-b50fe466d457"
      },
      "source": [
        "# YOUR CODE HERE\n",
        "def md5(s):\n",
        "  import hashlib\n",
        "  m = hashlib.md5()\n",
        "  m.update(s.encode())\n",
        "  return m.hexdigest()[:2]\n",
        "\n",
        "md5('3/5/20')"
      ],
      "execution_count": 12,
      "outputs": [
        {
          "output_type": "execute_result",
          "data": {
            "text/plain": [
              "'da'"
            ]
          },
          "metadata": {
            "tags": []
          },
          "execution_count": 12
        }
      ]
    },
    {
      "cell_type": "code",
      "metadata": {
        "id": "hbkvd3lCTYTm",
        "colab_type": "code",
        "colab": {
          "base_uri": "https://localhost:8080/",
          "height": 479
        },
        "outputId": "7a26a07d-adb8-4dda-d378-e1fba8782aad"
      },
      "source": [
        "confirmed.show()"
      ],
      "execution_count": 47,
      "outputs": [
        {
          "output_type": "stream",
          "text": [
            "+--------------+--------------+------------------+------------------+-------+-------+-------+-------+-------+-------+-------+-------+-------+-------+------+------+------+------+------+------+------+------+------+-------+-------+-------+-------+-------+-------+-------+-------+-------+-------+-------+-------+-------+-------+-------+-------+-------+-------+-------+-------+------+------+------+------+------+\n",
            "|Province/State|Country/Region|               Lat|              Long|1/22/20|1/23/20|1/24/20|1/25/20|1/26/20|1/27/20|1/28/20|1/29/20|1/30/20|1/31/20|2/1/20|2/2/20|2/3/20|2/4/20|2/5/20|2/6/20|2/7/20|2/8/20|2/9/20|2/10/20|2/11/20|2/12/20|2/13/20|2/14/20|2/15/20|2/16/20|2/17/20|2/18/20|2/19/20|2/20/20|2/21/20|2/22/20|2/23/20|2/24/20|2/25/20|2/26/20|2/27/20|2/28/20|2/29/20|3/1/20|3/2/20|3/3/20|3/4/20|3/5/20|\n",
            "+--------------+--------------+------------------+------------------+-------+-------+-------+-------+-------+-------+-------+-------+-------+-------+------+------+------+------+------+------+------+------+------+-------+-------+-------+-------+-------+-------+-------+-------+-------+-------+-------+-------+-------+-------+-------+-------+-------+-------+-------+-------+------+------+------+------+------+\n",
            "|         Anhui|Mainland China|           31.8257|          117.2264|      1|      9|     15|     39|     60|     70|    106|    152|    200|    237|   297|   340|   408|   480|   530|   591|   665|   733|   779|    830|    860|    889|    910|    934|    950|    962|    973|    982|    986|    987|    988|    989|    989|    989|    989|    989|    989|    990|    990|   990|   990|   990|   990|   990|\n",
            "|       Beijing|Mainland China|           40.1824|          116.4142|     14|     22|     36|     41|     68|     80|     91|    111|    114|    139|   168|   191|   212|   228|   253|   274|   297|   315|   326|    337|    342|    352|    366|    372|    375|    380|    381|    387|    393|    395|    396|    399|    399|    399|    400|    400|    410|    410|    411|   413|   414|   414|   418|   418|\n",
            "|     Chongqing|Mainland China|           30.0572|           107.874|      6|      9|     27|     57|     75|    110|    132|    147|    182|    211|   247|   300|   337|   366|   389|   411|   426|   428|   468|    486|    505|    518|    529|    537|    544|    551|    553|    555|    560|    567|    572|    573|    575|    576|    576|    576|    576|    576|    576|   576|   576|   576|   576|   576|\n",
            "|        Fujian|Mainland China|           26.0789|          117.9874|      1|      5|     10|     18|     35|     59|     80|     84|    101|    120|   144|   159|   179|   194|   205|   215|   224|   239|   250|    261|    267|    272|    279|    281|    285|    287|    290|    292|    293|    293|    293|    293|    293|    293|    294|    294|    296|    296|    296|   296|   296|   296|   296|   296|\n",
            "|         Gansu|Mainland China|           36.0611|          103.8343|      0|      2|      2|      4|      7|     14|     19|     24|     26|     29|    40|    51|    55|    57|    62|    62|    67|    79|    83|     83|     86|     87|     90|     90|     90|     90|     91|     91|     91|     91|     91|     91|     91|     91|     91|     91|     91|     91|     91|    91|    91|    91|    91|   102|\n",
            "|     Guangdong|Mainland China|           23.3417|          113.4244|     26|     32|     53|     78|    111|    151|    207|    277|    354|    436|   535|   632|   725|   813|   895|   970|  1034|  1095|  1131|   1159|   1177|   1219|   1241|   1261|   1294|   1316|   1322|   1328|   1331|   1332|   1333|   1339|   1342|   1345|   1347|   1347|   1347|   1348|   1349|  1349|  1350|  1350|  1350|  1351|\n",
            "|       Guangxi|Mainland China|           23.8298|          108.7881|      2|      5|     23|     23|     36|     46|     51|     58|     78|     87|   100|   111|   127|   139|   150|   168|   172|   183|   195|    210|    215|    222|    222|    226|    235|    237|    238|    242|    244|    245|    246|    249|    249|    251|    252|    252|    252|    252|    252|   252|   252|   252|   252|   252|\n",
            "|       Guizhou|Mainland China|           26.8154|          106.8748|      1|      3|      3|      4|      5|      7|      9|      9|     12|     29|    29|    38|    46|    58|    64|    71|    81|    89|    99|    109|    127|    133|    135|    140|    143|    144|    146|    146|    146|    146|    146|    146|    146|    146|    146|    146|    146|    146|    146|   146|   146|   146|   146|   146|\n",
            "|        Hainan|Mainland China|           19.1959|          109.7453|      4|      5|      8|     19|     22|     33|     40|     43|     46|     52|    62|    64|    72|    80|    99|   106|   117|   124|   131|    138|    144|    157|    157|    159|    162|    162|    163|    163|    168|    168|    168|    168|    168|    168|    168|    168|    168|    168|    168|   168|   168|   168|   168|   168|\n",
            "|         Hebei|Mainland China|           38.0428|          114.5149|      1|      1|      2|      8|     13|     18|     33|     48|     65|     82|    96|   104|   113|   126|   135|   157|   172|   195|   206|    218|    239|    251|    265|    283|    291|    300|    301|    306|    306|    307|    308|    309|    311|    311|    311|    312|    317|    318|    318|   318|   318|   318|   318|   318|\n",
            "|  Heilongjiang|Mainland China|47.861999999999995|          127.7615|      0|      2|      4|      9|     15|     21|     33|     38|     44|     59|    80|    95|   121|   155|   190|   227|   277|   295|   307|    331|    360|    378|    395|    419|    425|    445|    457|    464|    470|    476|    479|    479|    480|    480|    480|    480|    480|    480|    480|   480|   480|   480|   480|   481|\n",
            "|         Henan|Mainland China|33.882020000000004|113.61399999999999|      5|      5|      9|     32|     83|    128|    168|    206|    278|    352|   422|   493|   566|   675|   764|   851|   914|   981|  1033|   1073|   1105|   1135|   1169|   1184|   1212|   1231|   1246|   1257|   1262|   1265|   1267|   1270|   1271|   1271|   1271|   1271|   1272|   1272|   1272|  1272|  1272|  1272|  1272|  1272|\n",
            "|         Hubei|Mainland China|           30.9756|          112.2707|    444|    444|    549|    761|   1058|   1423|   3554|   3554|   4903|   5806|  7153| 11177| 13522| 16678| 19665| 22112| 24953| 27100| 29631|  31728|  33366|  33366|  48206|  54406|  56249|  58182|  59989|  61682|  62031|  62442|  62662|  64084|  64084|  64287|  64786|  65187|  65596|  65914|  66337| 66907| 67103| 67217| 67332| 67466|\n",
            "|         Hunan|Mainland China|           27.6104|          111.7088|      4|      9|     24|     43|     69|    100|    143|    221|    277|    332|   389|   463|   521|   593|   661|   711|   772|   803|   838|    879|    912|    946|    968|    988|   1001|   1004|   1006|   1007|   1008|   1010|   1011|   1013|   1016|   1016|   1016|   1016|   1017|   1017|   1018|  1018|  1018|  1018|  1018|  1018|\n",
            "|Inner Mongolia|Mainland China|           44.0935|          113.9448|      0|      0|      1|      7|      7|     11|     15|     16|     19|     20|    23|    27|    34|    35|    42|    46|    50|    52|    54|     58|     58|     60|     61|     65|     68|     70|     72|     73|     75|     75|     75|     75|     75|     75|     75|     75|     75|     75|     75|    75|    75|    75|    75|    75|\n",
            "|       Jiangsu|Mainland China|           32.9711|           119.455|      1|      5|      9|     18|     33|     47|     70|     99|    129|    168|   202|   236|   271|   308|   341|   373|   408|   439|   468|    492|    515|    543|    570|    593|    604|    617|    626|    629|    631|    631|    631|    631|    631|    631|    631|    631|    631|    631|    631|   631|   631|   631|   631|   631|\n",
            "|       Jiangxi|Mainland China|            27.614|          115.7221|      2|      7|     18|     18|     36|     72|    109|    109|    162|    240|   286|   333|   391|   476|   548|   600|   661|   698|   740|    771|    804|    844|    872|    900|    913|    925|    930|    933|    934|    934|    934|    934|    934|    934|    934|    934|    934|    935|    935|   935|   935|   935|   935|   935|\n",
            "|         Jilin|Mainland China|           43.6661|          126.1923|      0|      1|      3|      4|      4|      6|      8|      9|     14|     14|    17|    23|    31|    42|    54|    59|    65|    69|    78|     80|     81|     83|     84|     86|     88|     89|     89|     89|     90|     91|     91|     91|     91|     93|     93|     93|     93|     93|     93|    93|    93|    93|    93|    93|\n",
            "|      Liaoning|Mainland China|           41.2956|          122.6085|      2|      3|      4|     17|     21|     27|     34|     39|     41|     48|    64|    70|    74|    81|    89|    94|    99|   105|   107|    108|    111|    116|    117|    119|    119|    121|    121|    121|    121|    121|    121|    121|    121|    121|    121|    121|    121|    121|    121|   122|   122|   125|   125|   125|\n",
            "|       Ningxia|Mainland China|           37.2692|          106.1655|      1|      1|      2|      3|      4|      7|     11|     12|     17|     21|    26|    28|    31|    34|    34|    40|    43|    45|    45|     49|     53|     58|     64|     67|     70|     70|     70|     70|     71|     71|     71|     71|     71|     71|     71|     71|     72|     72|     73|    73|    74|    74|    75|    75|\n",
            "+--------------+--------------+------------------+------------------+-------+-------+-------+-------+-------+-------+-------+-------+-------+-------+------+------+------+------+------+------+------+------+------+-------+-------+-------+-------+-------+-------+-------+-------+-------+-------+-------+-------+-------+-------+-------+-------+-------+-------+-------+-------+------+------+------+------+------+\n",
            "only showing top 20 rows\n",
            "\n"
          ],
          "name": "stdout"
        }
      ]
    },
    {
      "cell_type": "markdown",
      "metadata": {
        "id": "4wYiCEv_zhVf",
        "colab_type": "text"
      },
      "source": [
        "Consider only the most recent data points in the timeseries, and compute:\n",
        "\n",
        "\n",
        "*   number of confirmed COVID-19 cases across the globe\n",
        "*   number of deaths due to COVID-19 (across the globe)\n",
        "*   number of recovered patients across the globe\n",
        "\n"
      ]
    },
    {
      "cell_type": "code",
      "metadata": {
        "id": "w-Hoy-9Xzf8r",
        "colab_type": "code",
        "colab": {
          "base_uri": "https://localhost:8080/",
          "height": 68
        },
        "outputId": "802a0263-e8ec-47e3-ddec-6acdbe388def"
      },
      "source": [
        "# YOUR CODE HERE\n",
        "def list_sum(l):\n",
        "  sum = 0\n",
        "  for x in l:\n",
        "    sum += int(x)\n",
        "  return sum\n",
        "confirmed_list = confirmed.select('3/5/20').rdd.flatMap(lambda x: x).collect()\n",
        "deaths_list = deaths.select('3/5/20').rdd.flatMap(lambda x: x).collect()\n",
        "recovered_list = recovered.select('3/5/20').rdd.flatMap(lambda x: x).collect()\n",
        "\n",
        "print(\"number of confirmed COVID-19 cases across the globe is: {}\".format(list_sum(confirmed_list)))\n",
        "print(\"number of deaths due to COVID-19 cases across the globe is: {}\".format(list_sum(deaths_list)))\n",
        "print(\"number of recovered patients across the globe is: {}\".format(list_sum(recovered_list)))"
      ],
      "execution_count": 80,
      "outputs": [
        {
          "output_type": "stream",
          "text": [
            "number of confirmed COVID-19 cases across the globe is: 97886\n",
            "number of deaths due to COVID-19 cases across the globe is: 3348\n",
            "number of recovered patients across the globe is: 53797\n"
          ],
          "name": "stdout"
        }
      ]
    },
    {
      "cell_type": "markdown",
      "metadata": {
        "id": "yahkAHoS0HuU",
        "colab_type": "text"
      },
      "source": [
        "Consider only the most recent data points in the timeseries, and filter out the geographical locations where less than 50 cases have been confirmed.\n",
        "For the areas still taken into consideration after the filtering step, compute the ratio between number of recovered patients and number of confirmed cases."
      ]
    },
    {
      "cell_type": "code",
      "metadata": {
        "id": "8FwzsH4l1VCZ",
        "colab_type": "code",
        "colab": {}
      },
      "source": [
        "# YOUR CODE HERE\n",
        "confirmed_list = confirmed.select('Province/State', 'Country/Region', col('3/5/20').alias('confirmed'))\n",
        "deaths_list = deaths.select('Province/State', 'Country/Region', col('3/5/20').alias('deaths'))\n",
        "recovered_list = recovered.select('Province/State', 'Country/Region', col('3/5/20').alias('recovered'))\n",
        "result = confirmed_list.join(deaths_list, ['Province/State', 'Country/Region'])\n",
        "result = result.join(recovered_list, ['Province/State', 'Country/Region'])\n",
        "result = result.withColumn(\"%recovered\", result.recovered / result.confirmed)\n",
        "result = result.withColumn(\"%deaths\", result.deaths / result.confirmed)"
      ],
      "execution_count": 0,
      "outputs": []
    },
    {
      "cell_type": "markdown",
      "metadata": {
        "id": "VOq8Xd7O1ZJk",
        "colab_type": "text"
      },
      "source": [
        "Following the same filtering strategy as above, now compute the ratio between number of deaths and number of confirmed cases."
      ]
    },
    {
      "cell_type": "code",
      "metadata": {
        "id": "tzrAAJMrbIsQ",
        "colab_type": "code",
        "colab": {
          "base_uri": "https://localhost:8080/",
          "height": 459
        },
        "outputId": "db624be0-99ce-4c93-cb32-5ff794a04392"
      },
      "source": [
        "result = result.filter(result.confirmed >= 50).sort(\"%recovered\", ascending = False)\n",
        "result.show()"
      ],
      "execution_count": 82,
      "outputs": [
        {
          "output_type": "stream",
          "text": [
            "+--------------+--------------+---------+------+---------+------------------+--------------------+\n",
            "|Province/State|Country/Region|confirmed|deaths|recovered|        %recovered|             %deaths|\n",
            "+--------------+--------------+---------+------+---------+------------------+--------------------+\n",
            "|         Anhui|Mainland China|      990|     6|      970|0.9797979797979798|0.006060606060606061|\n",
            "|         Henan|Mainland China|     1272|    22|     1239|0.9740566037735849| 0.01729559748427673|\n",
            "|        Yunnan|Mainland China|      174|     2|      169|0.9712643678160919|0.011494252873563218|\n",
            "|       Jiangxi|Mainland China|      935|     1|      901|0.9636363636363636|0.001069518716577...|\n",
            "|         Hebei|Mainland China|      318|     6|      304|0.9559748427672956|0.018867924528301886|\n",
            "|        Shanxi|Mainland China|      133|     0|      126|0.9473684210526315|                 0.0|\n",
            "|         Jilin|Mainland China|       93|     1|       88| 0.946236559139785|0.010752688172043012|\n",
            "|       Tianjin|Mainland China|      136|     3|      128|0.9411764705882353|0.022058823529411766|\n",
            "|        Hainan|Mainland China|      168|     6|      158|0.9404761904761905| 0.03571428571428571|\n",
            "|        Fujian|Mainland China|      296|     1|      277|0.9358108108108109|0.003378378378378...|\n",
            "|      Zhejiang|Mainland China|     1215|     1|     1124|0.9251028806584363|8.230452674897119E-4|\n",
            "|       Jiangsu|Mainland China|      631|     0|      583|0.9239302694136292|                 0.0|\n",
            "|         Hunan|Mainland China|     1018|     4|      938|0.9214145383104125|0.003929273084479371|\n",
            "|      Xinjiang|Mainland China|       76|     3|       70|0.9210526315789473|0.039473684210526314|\n",
            "|       Ningxia|Mainland China|       75|     0|       69|              0.92|                 0.0|\n",
            "|       Shaanxi|Mainland China|      245|     1|      224|0.9142857142857143|0.004081632653061225|\n",
            "|      Shanghai|Mainland China|      339|     3|      303|0.8938053097345132|0.008849557522123894|\n",
            "|     Chongqing|Mainland China|      576|     6|      512|0.8888888888888888|0.010416666666666666|\n",
            "|     Guangdong|Mainland China|     1351|     7|     1181|0.8741672834937083|0.005181347150259...|\n",
            "|Inner Mongolia|Mainland China|       75|     1|       65|0.8666666666666667|0.013333333333333334|\n",
            "+--------------+--------------+---------+------+---------+------------------+--------------------+\n",
            "only showing top 20 rows\n",
            "\n"
          ],
          "name": "stdout"
        }
      ]
    },
    {
      "cell_type": "code",
      "metadata": {
        "id": "JcsetfwIbMtz",
        "colab_type": "code",
        "colab": {
          "base_uri": "https://localhost:8080/",
          "height": 459
        },
        "outputId": "04631d45-2d18-4848-8802-d7a00740f13b"
      },
      "source": [
        "result = result.filter(result.confirmed >= 50).sort(\"%deaths\", ascending = False)\n",
        "result.show()"
      ],
      "execution_count": 83,
      "outputs": [
        {
          "output_type": "stream",
          "text": [
            "+--------------------+--------------+---------+------+---------+--------------------+--------------------+\n",
            "|      Province/State|Country/Region|confirmed|deaths|recovered|          %recovered|             %deaths|\n",
            "+--------------------+--------------+---------+------+---------+--------------------+--------------------+\n",
            "|     King County, WA|            US|       51|    10|        1|  0.0196078431372549| 0.19607843137254902|\n",
            "|               Hubei|Mainland China|    67466|  2902|    40592|  0.6016660243678297| 0.04301425903418018|\n",
            "|            Xinjiang|Mainland China|       76|     3|       70|  0.9210526315789473|0.039473684210526314|\n",
            "|              Hainan|Mainland China|      168|     6|      158|  0.9404761904761905| 0.03571428571428571|\n",
            "|        Heilongjiang|Mainland China|      481|    13|      379|  0.7879417879417879| 0.02702702702702703|\n",
            "|             Tianjin|Mainland China|      136|     3|      128|  0.9411764705882353|0.022058823529411766|\n",
            "|               Gansu|Mainland China|      102|     2|       87|  0.8529411764705882|  0.0196078431372549|\n",
            "|             Beijing|Mainland China|      418|     8|      297|  0.7105263157894737|0.019138755980861243|\n",
            "|           Hong Kong|     Hong Kong|      105|     2|       43|  0.4095238095238095| 0.01904761904761905|\n",
            "|               Hebei|Mainland China|      318|     6|      304|  0.9559748427672956|0.018867924528301886|\n",
            "|               Henan|Mainland China|     1272|    22|     1239|  0.9740566037735849| 0.01729559748427673|\n",
            "|             Guizhou|Mainland China|      146|     2|      114|  0.7808219178082192|  0.0136986301369863|\n",
            "|      Inner Mongolia|Mainland China|       75|     1|       65|  0.8666666666666667|0.013333333333333334|\n",
            "|              Yunnan|Mainland China|      174|     2|      169|  0.9712643678160919|0.011494252873563218|\n",
            "|               Jilin|Mainland China|       93|     1|       88|   0.946236559139785|0.010752688172043012|\n",
            "|           Chongqing|Mainland China|      576|     6|      512|  0.8888888888888888|0.010416666666666666|\n",
            "|            Shanghai|Mainland China|      339|     3|      303|  0.8938053097345132|0.008849557522123894|\n",
            "|Diamond Princess ...|        Others|      706|     6|       10|0.014164305949008499|  0.0084985835694051|\n",
            "|            Liaoning|Mainland China|      125|     1|      106|               0.848|               0.008|\n",
            "|             Guangxi|Mainland China|      252|     2|      214|  0.8492063492063492|0.007936507936507936|\n",
            "+--------------------+--------------+---------+------+---------+--------------------+--------------------+\n",
            "only showing top 20 rows\n",
            "\n"
          ],
          "name": "stdout"
        }
      ]
    },
    {
      "cell_type": "markdown",
      "metadata": {
        "id": "SIrXJyVNP2AI",
        "colab_type": "text"
      },
      "source": [
        "Once you have working code for each cell above, **head over to Gradescope, read carefully the questions, and submit your solution for this Colab**!"
      ]
    }
  ]
}